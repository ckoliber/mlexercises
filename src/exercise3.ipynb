{
 "cells": [
  {
   "cell_type": "markdown",
   "id": "08e0ffec",
   "metadata": {},
   "source": [
    "# ML Answers\n",
    "\n",
    "- **Answer Set**: No. 03\n",
    "- **Full Name**: Mohammad Hosein Nemati\n",
    "- **Student Code**: `610300185`"
   ]
  },
  {
   "cell_type": "markdown",
   "id": "6595aa20",
   "metadata": {},
   "source": [
    "---"
   ]
  }
 ],
 "metadata": {
  "language_info": {
   "name": "python"
  },
  "orig_nbformat": 4
 },
 "nbformat": 4,
 "nbformat_minor": 2
}

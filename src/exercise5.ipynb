{
 "cells": [
  {
   "cell_type": "markdown",
   "id": "08e0ffec",
   "metadata": {},
   "source": [
    "# ML Answers\n",
    "\n",
    "- **Answer Set**: No. 05\n",
    "- **Full Name**: Mohammad Hosein Nemati\n",
    "- **Student Code**: `610300185`"
   ]
  },
  {
   "cell_type": "markdown",
   "id": "6595aa20",
   "metadata": {},
   "source": [
    "---"
   ]
  },
  {
   "cell_type": "markdown",
   "id": "f4ed694d",
   "metadata": {},
   "source": [
    "## Basics\n",
    "\n",
    "In this section we will done some basic steps:"
   ]
  },
  {
   "cell_type": "markdown",
   "id": "679cf505",
   "metadata": {},
   "source": [
    "### Libraries\n",
    "\n",
    "Before begin, we must import these required libraries:"
   ]
  },
  {
   "cell_type": "code",
   "execution_count": 39,
   "id": "8d1e4ab7",
   "metadata": {},
   "outputs": [],
   "source": [
    "import numpy as np\n",
    "import pandas as pd\n",
    "import sklearn as sk\n",
    "\n",
    "import sklearn.utils as skutils\n",
    "import sklearn.dummy as skdummy\n",
    "import sklearn.impute as skimpute\n",
    "import sklearn.compose as skcompose\n",
    "import sklearn.pipeline as skpipeline\n",
    "import sklearn.naive_bayes as skbayes\n",
    "import sklearn.linear_model as sklinear\n",
    "import sklearn.preprocessing as skprocessing\n",
    "import sklearn.model_selection as skselection\n",
    "\n",
    "sk.set_config(display=\"diagram\")"
   ]
  },
  {
   "cell_type": "markdown",
   "id": "8d32c3cd",
   "metadata": {},
   "source": [
    "### Dataset\n",
    "\n",
    "Now we can load our dataset:"
   ]
  },
  {
   "cell_type": "code",
   "execution_count": 40,
   "id": "75759233",
   "metadata": {},
   "outputs": [
    {
     "data": {
      "text/html": [
       "<div>\n",
       "<style scoped>\n",
       "    .dataframe tbody tr th:only-of-type {\n",
       "        vertical-align: middle;\n",
       "    }\n",
       "\n",
       "    .dataframe tbody tr th {\n",
       "        vertical-align: top;\n",
       "    }\n",
       "\n",
       "    .dataframe thead th {\n",
       "        text-align: right;\n",
       "    }\n",
       "</style>\n",
       "<table border=\"1\" class=\"dataframe\">\n",
       "  <thead>\n",
       "    <tr style=\"text-align: right;\">\n",
       "      <th></th>\n",
       "      <th>Age</th>\n",
       "      <th>WorkClass</th>\n",
       "      <th>FinancialWeight</th>\n",
       "      <th>Education-num</th>\n",
       "      <th>MaritalStatus</th>\n",
       "      <th>Occupation</th>\n",
       "      <th>Relationship</th>\n",
       "      <th>Race</th>\n",
       "      <th>Sex</th>\n",
       "      <th>CapitalGain</th>\n",
       "      <th>CapitalLoss</th>\n",
       "      <th>HourPerWeek</th>\n",
       "      <th>NativeCountry</th>\n",
       "    </tr>\n",
       "  </thead>\n",
       "  <tbody>\n",
       "    <tr>\n",
       "      <th>9396</th>\n",
       "      <td>54</td>\n",
       "      <td>Private</td>\n",
       "      <td>234938</td>\n",
       "      <td>9</td>\n",
       "      <td>Married-civ-spouse</td>\n",
       "      <td>Sales</td>\n",
       "      <td>Husband</td>\n",
       "      <td>White</td>\n",
       "      <td>Male</td>\n",
       "      <td>4064</td>\n",
       "      <td>0</td>\n",
       "      <td>55</td>\n",
       "      <td>United-States</td>\n",
       "    </tr>\n",
       "    <tr>\n",
       "      <th>28150</th>\n",
       "      <td>46</td>\n",
       "      <td>Private</td>\n",
       "      <td>208067</td>\n",
       "      <td>9</td>\n",
       "      <td>Divorced</td>\n",
       "      <td>Craft-repair</td>\n",
       "      <td>Other-relative</td>\n",
       "      <td>White</td>\n",
       "      <td>Male</td>\n",
       "      <td>0</td>\n",
       "      <td>0</td>\n",
       "      <td>40</td>\n",
       "      <td>United-States</td>\n",
       "    </tr>\n",
       "    <tr>\n",
       "      <th>4245</th>\n",
       "      <td>27</td>\n",
       "      <td>Federal-gov</td>\n",
       "      <td>469705</td>\n",
       "      <td>9</td>\n",
       "      <td>Never-married</td>\n",
       "      <td>Craft-repair</td>\n",
       "      <td>Not-in-family</td>\n",
       "      <td>Black</td>\n",
       "      <td>Male</td>\n",
       "      <td>0</td>\n",
       "      <td>1980</td>\n",
       "      <td>40</td>\n",
       "      <td>United-States</td>\n",
       "    </tr>\n",
       "    <tr>\n",
       "      <th>4133</th>\n",
       "      <td>55</td>\n",
       "      <td>Private</td>\n",
       "      <td>147098</td>\n",
       "      <td>9</td>\n",
       "      <td>Married-civ-spouse</td>\n",
       "      <td>Craft-repair</td>\n",
       "      <td>Husband</td>\n",
       "      <td>White</td>\n",
       "      <td>Male</td>\n",
       "      <td>0</td>\n",
       "      <td>0</td>\n",
       "      <td>50</td>\n",
       "      <td>United-States</td>\n",
       "    </tr>\n",
       "    <tr>\n",
       "      <th>13174</th>\n",
       "      <td>29</td>\n",
       "      <td>Private</td>\n",
       "      <td>179498</td>\n",
       "      <td>9</td>\n",
       "      <td>Married-civ-spouse</td>\n",
       "      <td>Exec-managerial</td>\n",
       "      <td>Husband</td>\n",
       "      <td>White</td>\n",
       "      <td>Male</td>\n",
       "      <td>0</td>\n",
       "      <td>0</td>\n",
       "      <td>40</td>\n",
       "      <td>Germany</td>\n",
       "    </tr>\n",
       "    <tr>\n",
       "      <th>...</th>\n",
       "      <td>...</td>\n",
       "      <td>...</td>\n",
       "      <td>...</td>\n",
       "      <td>...</td>\n",
       "      <td>...</td>\n",
       "      <td>...</td>\n",
       "      <td>...</td>\n",
       "      <td>...</td>\n",
       "      <td>...</td>\n",
       "      <td>...</td>\n",
       "      <td>...</td>\n",
       "      <td>...</td>\n",
       "      <td>...</td>\n",
       "    </tr>\n",
       "    <tr>\n",
       "      <th>17193</th>\n",
       "      <td>34</td>\n",
       "      <td>Private</td>\n",
       "      <td>238305</td>\n",
       "      <td>10</td>\n",
       "      <td>Married-civ-spouse</td>\n",
       "      <td>Other-service</td>\n",
       "      <td>Wife</td>\n",
       "      <td>White</td>\n",
       "      <td>Female</td>\n",
       "      <td>0</td>\n",
       "      <td>1628</td>\n",
       "      <td>12</td>\n",
       "      <td>NaN</td>\n",
       "    </tr>\n",
       "    <tr>\n",
       "      <th>19993</th>\n",
       "      <td>21</td>\n",
       "      <td>Private</td>\n",
       "      <td>232591</td>\n",
       "      <td>9</td>\n",
       "      <td>Never-married</td>\n",
       "      <td>Adm-clerical</td>\n",
       "      <td>Own-child</td>\n",
       "      <td>White</td>\n",
       "      <td>Male</td>\n",
       "      <td>0</td>\n",
       "      <td>0</td>\n",
       "      <td>40</td>\n",
       "      <td>United-States</td>\n",
       "    </tr>\n",
       "    <tr>\n",
       "      <th>31416</th>\n",
       "      <td>42</td>\n",
       "      <td>Private</td>\n",
       "      <td>195584</td>\n",
       "      <td>12</td>\n",
       "      <td>Separated</td>\n",
       "      <td>Adm-clerical</td>\n",
       "      <td>Unmarried</td>\n",
       "      <td>Black</td>\n",
       "      <td>Female</td>\n",
       "      <td>0</td>\n",
       "      <td>0</td>\n",
       "      <td>40</td>\n",
       "      <td>United-States</td>\n",
       "    </tr>\n",
       "    <tr>\n",
       "      <th>31529</th>\n",
       "      <td>23</td>\n",
       "      <td>Private</td>\n",
       "      <td>288771</td>\n",
       "      <td>10</td>\n",
       "      <td>Never-married</td>\n",
       "      <td>Adm-clerical</td>\n",
       "      <td>Not-in-family</td>\n",
       "      <td>White</td>\n",
       "      <td>Female</td>\n",
       "      <td>0</td>\n",
       "      <td>0</td>\n",
       "      <td>30</td>\n",
       "      <td>United-States</td>\n",
       "    </tr>\n",
       "    <tr>\n",
       "      <th>16165</th>\n",
       "      <td>50</td>\n",
       "      <td>Private</td>\n",
       "      <td>150876</td>\n",
       "      <td>9</td>\n",
       "      <td>Married-civ-spouse</td>\n",
       "      <td>Exec-managerial</td>\n",
       "      <td>Husband</td>\n",
       "      <td>Black</td>\n",
       "      <td>Male</td>\n",
       "      <td>0</td>\n",
       "      <td>1887</td>\n",
       "      <td>55</td>\n",
       "      <td>United-States</td>\n",
       "    </tr>\n",
       "  </tbody>\n",
       "</table>\n",
       "<p>32561 rows × 13 columns</p>\n",
       "</div>"
      ],
      "text/plain": [
       "       Age     WorkClass  FinancialWeight  Education-num        MaritalStatus  \\\n",
       "9396    54       Private           234938              9   Married-civ-spouse   \n",
       "28150   46       Private           208067              9             Divorced   \n",
       "4245    27   Federal-gov           469705              9        Never-married   \n",
       "4133    55       Private           147098              9   Married-civ-spouse   \n",
       "13174   29       Private           179498              9   Married-civ-spouse   \n",
       "...    ...           ...              ...            ...                  ...   \n",
       "17193   34       Private           238305             10   Married-civ-spouse   \n",
       "19993   21       Private           232591              9        Never-married   \n",
       "31416   42       Private           195584             12            Separated   \n",
       "31529   23       Private           288771             10        Never-married   \n",
       "16165   50       Private           150876              9   Married-civ-spouse   \n",
       "\n",
       "             Occupation     Relationship    Race      Sex  CapitalGain  \\\n",
       "9396              Sales          Husband   White     Male         4064   \n",
       "28150      Craft-repair   Other-relative   White     Male            0   \n",
       "4245       Craft-repair    Not-in-family   Black     Male            0   \n",
       "4133       Craft-repair          Husband   White     Male            0   \n",
       "13174   Exec-managerial          Husband   White     Male            0   \n",
       "...                 ...              ...     ...      ...          ...   \n",
       "17193     Other-service             Wife   White   Female            0   \n",
       "19993      Adm-clerical        Own-child   White     Male            0   \n",
       "31416      Adm-clerical        Unmarried   Black   Female            0   \n",
       "31529      Adm-clerical    Not-in-family   White   Female            0   \n",
       "16165   Exec-managerial          Husband   Black     Male            0   \n",
       "\n",
       "       CapitalLoss  HourPerWeek   NativeCountry  \n",
       "9396             0           55   United-States  \n",
       "28150            0           40   United-States  \n",
       "4245          1980           40   United-States  \n",
       "4133             0           50   United-States  \n",
       "13174            0           40         Germany  \n",
       "...            ...          ...             ...  \n",
       "17193         1628           12             NaN  \n",
       "19993            0           40   United-States  \n",
       "31416            0           40   United-States  \n",
       "31529            0           30   United-States  \n",
       "16165         1887           55   United-States  \n",
       "\n",
       "[32561 rows x 13 columns]"
      ]
     },
     "execution_count": 40,
     "metadata": {},
     "output_type": "execute_result"
    }
   ],
   "source": [
    "data_frame = pd.read_csv(\"../lib/HW5.csv\")\n",
    "data_frame = skutils.shuffle(data_frame)\n",
    "\n",
    "data_label = data_frame[\"Income\"]\n",
    "data_frame = data_frame.drop([\"Income\", \"Education\"], axis=1)\n",
    "\n",
    "data_features = data_frame.to_numpy()\n",
    "data_labels = data_label.to_numpy()\n",
    "\n",
    "data_labels[data_labels == \" <=50K\"] = 0\n",
    "data_labels[data_labels == \" >50K\"] = 1\n",
    "\n",
    "data_labels = np.array(data_labels, dtype=np.int32)\n",
    "\n",
    "train_features, test_features, train_labels, test_labels = skselection.train_test_split(\n",
    "    data_features, \n",
    "    data_labels, \n",
    "    test_size=0.3, \n",
    "    random_state=313\n",
    ")\n",
    "\n",
    "data_frame"
   ]
  },
  {
   "cell_type": "markdown",
   "metadata": {},
   "source": [
    "---"
   ]
  },
  {
   "cell_type": "markdown",
   "metadata": {},
   "source": [
    "## Problem (1)"
   ]
  },
  {
   "cell_type": "markdown",
   "metadata": {},
   "source": [
    "### Part (a)"
   ]
  },
  {
   "cell_type": "code",
   "execution_count": 41,
   "metadata": {},
   "outputs": [
    {
     "name": "stdout",
     "output_type": "stream",
     "text": [
      "Column Types:\n",
      "\n",
      "Numbers: Age, FinancialWeight, Education-num, CapitalGain, CapitalLoss, HourPerWeek\n",
      "Strings: WorkClass, MaritalStatus, Occupation, Relationship, Race, Sex, NativeCountry\n"
     ]
    }
   ],
   "source": [
    "print(\"Column Types:\")\n",
    "print(\"\")\n",
    "\n",
    "heading_numbers = [label for label in data_frame if str(data_frame.loc[0, label]).isdigit()]\n",
    "heading_strings = [label for label in data_frame if not str(data_frame.loc[0, label]).isdigit()]\n",
    "\n",
    "heading_numbers_index = [data_frame.columns.get_loc(label) for label in heading_numbers]\n",
    "heading_strings_index = [data_frame.columns.get_loc(label) for label in heading_strings]\n",
    "\n",
    "print(f\"Numbers: {', '.join(heading_numbers)}\")\n",
    "print(f\"Strings: {', '.join(heading_strings)}\")"
   ]
  },
  {
   "cell_type": "markdown",
   "metadata": {},
   "source": [
    "---"
   ]
  },
  {
   "cell_type": "markdown",
   "metadata": {},
   "source": [
    "### Part (b)"
   ]
  },
  {
   "cell_type": "code",
   "execution_count": 42,
   "metadata": {},
   "outputs": [
    {
     "name": "stdout",
     "output_type": "stream",
     "text": [
      "Column Nulls:\n",
      "\n",
      "WorkClass: 1836\n",
      "Occupation: 1843\n",
      "NativeCountry: 583\n"
     ]
    }
   ],
   "source": [
    "print(\"Column Nulls:\")\n",
    "print(\"\")\n",
    "\n",
    "null_columns = []\n",
    "\n",
    "for label in data_frame:\n",
    "    nulls = len(data_frame[label][pd.isna(data_frame[label])])\n",
    "    \n",
    "    if (nulls > 0):\n",
    "        null_columns.append(label)\n",
    "        print(f\"{label}: {nulls}\")"
   ]
  },
  {
   "cell_type": "markdown",
   "metadata": {},
   "source": [
    "---"
   ]
  },
  {
   "cell_type": "markdown",
   "metadata": {},
   "source": [
    "### Part (c)\n",
    "\n",
    "Because the columns that contains null records are string typed, we can use **Mode of Column** for the null cells"
   ]
  },
  {
   "cell_type": "markdown",
   "id": "406acb3f",
   "metadata": {},
   "source": [
    "---"
   ]
  },
  {
   "cell_type": "markdown",
   "metadata": {},
   "source": [
    "### Part (d)\n",
    "\n",
    "Now, we will define a **Data Pipeline** for handling entire workflow, this pipeline contains three steps:\n",
    "\n",
    "1. **Imputer**: Fills empty cells with `column mode`\n",
    "2. **Transformer**: Converts columns\n",
    "   1. **Numbers**: Converts number typed columns using `MinMaxScaler`\n",
    "   2. **Strings**: Converts string typed columns to numbers using `OneHotEncoder`\n",
    "3. **Classifier**: Classification using `dummy_baseline`"
   ]
  },
  {
   "cell_type": "code",
   "execution_count": 43,
   "metadata": {},
   "outputs": [
    {
     "data": {
      "text/html": [
       "<style>#sk-269aed64-fc34-45be-aa09-66b1f06daf5c {color: black;background-color: white;}#sk-269aed64-fc34-45be-aa09-66b1f06daf5c pre{padding: 0;}#sk-269aed64-fc34-45be-aa09-66b1f06daf5c div.sk-toggleable {background-color: white;}#sk-269aed64-fc34-45be-aa09-66b1f06daf5c label.sk-toggleable__label {cursor: pointer;display: block;width: 100%;margin-bottom: 0;padding: 0.3em;box-sizing: border-box;text-align: center;}#sk-269aed64-fc34-45be-aa09-66b1f06daf5c div.sk-toggleable__content {max-height: 0;max-width: 0;overflow: hidden;text-align: left;background-color: #f0f8ff;}#sk-269aed64-fc34-45be-aa09-66b1f06daf5c div.sk-toggleable__content pre {margin: 0.2em;color: black;border-radius: 0.25em;background-color: #f0f8ff;}#sk-269aed64-fc34-45be-aa09-66b1f06daf5c input.sk-toggleable__control:checked~div.sk-toggleable__content {max-height: 200px;max-width: 100%;overflow: auto;}#sk-269aed64-fc34-45be-aa09-66b1f06daf5c div.sk-estimator input.sk-toggleable__control:checked~label.sk-toggleable__label {background-color: #d4ebff;}#sk-269aed64-fc34-45be-aa09-66b1f06daf5c div.sk-label input.sk-toggleable__control:checked~label.sk-toggleable__label {background-color: #d4ebff;}#sk-269aed64-fc34-45be-aa09-66b1f06daf5c input.sk-hidden--visually {border: 0;clip: rect(1px 1px 1px 1px);clip: rect(1px, 1px, 1px, 1px);height: 1px;margin: -1px;overflow: hidden;padding: 0;position: absolute;width: 1px;}#sk-269aed64-fc34-45be-aa09-66b1f06daf5c div.sk-estimator {font-family: monospace;background-color: #f0f8ff;border: 1px dotted black;border-radius: 0.25em;box-sizing: border-box;margin-bottom: 0.5em;}#sk-269aed64-fc34-45be-aa09-66b1f06daf5c div.sk-estimator:hover {background-color: #d4ebff;}#sk-269aed64-fc34-45be-aa09-66b1f06daf5c div.sk-parallel-item::after {content: \"\";width: 100%;border-bottom: 1px solid gray;flex-grow: 1;}#sk-269aed64-fc34-45be-aa09-66b1f06daf5c div.sk-label:hover label.sk-toggleable__label {background-color: #d4ebff;}#sk-269aed64-fc34-45be-aa09-66b1f06daf5c div.sk-serial::before {content: \"\";position: absolute;border-left: 1px solid gray;box-sizing: border-box;top: 2em;bottom: 0;left: 50%;}#sk-269aed64-fc34-45be-aa09-66b1f06daf5c div.sk-serial {display: flex;flex-direction: column;align-items: center;background-color: white;padding-right: 0.2em;padding-left: 0.2em;}#sk-269aed64-fc34-45be-aa09-66b1f06daf5c div.sk-item {z-index: 1;}#sk-269aed64-fc34-45be-aa09-66b1f06daf5c div.sk-parallel {display: flex;align-items: stretch;justify-content: center;background-color: white;}#sk-269aed64-fc34-45be-aa09-66b1f06daf5c div.sk-parallel::before {content: \"\";position: absolute;border-left: 1px solid gray;box-sizing: border-box;top: 2em;bottom: 0;left: 50%;}#sk-269aed64-fc34-45be-aa09-66b1f06daf5c div.sk-parallel-item {display: flex;flex-direction: column;position: relative;background-color: white;}#sk-269aed64-fc34-45be-aa09-66b1f06daf5c div.sk-parallel-item:first-child::after {align-self: flex-end;width: 50%;}#sk-269aed64-fc34-45be-aa09-66b1f06daf5c div.sk-parallel-item:last-child::after {align-self: flex-start;width: 50%;}#sk-269aed64-fc34-45be-aa09-66b1f06daf5c div.sk-parallel-item:only-child::after {width: 0;}#sk-269aed64-fc34-45be-aa09-66b1f06daf5c div.sk-dashed-wrapped {border: 1px dashed gray;margin: 0 0.4em 0.5em 0.4em;box-sizing: border-box;padding-bottom: 0.4em;background-color: white;position: relative;}#sk-269aed64-fc34-45be-aa09-66b1f06daf5c div.sk-label label {font-family: monospace;font-weight: bold;background-color: white;display: inline-block;line-height: 1.2em;}#sk-269aed64-fc34-45be-aa09-66b1f06daf5c div.sk-label-container {position: relative;z-index: 2;text-align: center;}#sk-269aed64-fc34-45be-aa09-66b1f06daf5c div.sk-container {display: inline-block;position: relative;}</style><div id=\"sk-269aed64-fc34-45be-aa09-66b1f06daf5c\" class\"sk-top-container\"><div class=\"sk-container\"><div class=\"sk-item sk-dashed-wrapped\"><div class=\"sk-label-container\"><div class=\"sk-label sk-toggleable\"><input class=\"sk-toggleable__control sk-hidden--visually\" id=\"2f158423-38cf-4bac-8526-62743fe6cd4a\" type=\"checkbox\" ><label class=\"sk-toggleable__label\" for=\"2f158423-38cf-4bac-8526-62743fe6cd4a\">Pipeline</label><div class=\"sk-toggleable__content\"><pre>Pipeline(steps=[('imputer', SimpleImputer(strategy='most_frequent')),\n",
       "                ('transformer',\n",
       "                 ColumnTransformer(transformers=[('numbers', MinMaxScaler(),\n",
       "                                                  [0, 2, 3, 9, 10, 11]),\n",
       "                                                 ('strings',\n",
       "                                                  OneHotEncoder(handle_unknown='ignore'),\n",
       "                                                  [1, 4, 5, 6, 7, 8, 12])])),\n",
       "                ('classifier',\n",
       "                 DummyClassifier(constant=0, strategy='constant'))])</pre></div></div></div><div class=\"sk-serial\"><div class=\"sk-item\"><div class=\"sk-estimator sk-toggleable\"><input class=\"sk-toggleable__control sk-hidden--visually\" id=\"cf9af1c8-be8c-4391-9650-c606e7040e9a\" type=\"checkbox\" ><label class=\"sk-toggleable__label\" for=\"cf9af1c8-be8c-4391-9650-c606e7040e9a\">SimpleImputer</label><div class=\"sk-toggleable__content\"><pre>SimpleImputer(strategy='most_frequent')</pre></div></div></div><div class=\"sk-item sk-dashed-wrapped\"><div class=\"sk-label-container\"><div class=\"sk-label sk-toggleable\"><input class=\"sk-toggleable__control sk-hidden--visually\" id=\"d7df180e-e650-497c-ad3c-9690c94b4f4d\" type=\"checkbox\" ><label class=\"sk-toggleable__label\" for=\"d7df180e-e650-497c-ad3c-9690c94b4f4d\">transformer: ColumnTransformer</label><div class=\"sk-toggleable__content\"><pre>ColumnTransformer(transformers=[('numbers', MinMaxScaler(),\n",
       "                                 [0, 2, 3, 9, 10, 11]),\n",
       "                                ('strings',\n",
       "                                 OneHotEncoder(handle_unknown='ignore'),\n",
       "                                 [1, 4, 5, 6, 7, 8, 12])])</pre></div></div></div><div class=\"sk-parallel\"><div class=\"sk-parallel-item\"><div class=\"sk-item\"><div class=\"sk-label-container\"><div class=\"sk-label sk-toggleable\"><input class=\"sk-toggleable__control sk-hidden--visually\" id=\"865a4ae6-3019-4d0f-87f6-589b613c8bc2\" type=\"checkbox\" ><label class=\"sk-toggleable__label\" for=\"865a4ae6-3019-4d0f-87f6-589b613c8bc2\">numbers</label><div class=\"sk-toggleable__content\"><pre>[0, 2, 3, 9, 10, 11]</pre></div></div></div><div class=\"sk-serial\"><div class=\"sk-item\"><div class=\"sk-estimator sk-toggleable\"><input class=\"sk-toggleable__control sk-hidden--visually\" id=\"9e917b68-6ed2-4fb9-a487-9515c78550f3\" type=\"checkbox\" ><label class=\"sk-toggleable__label\" for=\"9e917b68-6ed2-4fb9-a487-9515c78550f3\">MinMaxScaler</label><div class=\"sk-toggleable__content\"><pre>MinMaxScaler()</pre></div></div></div></div></div></div><div class=\"sk-parallel-item\"><div class=\"sk-item\"><div class=\"sk-label-container\"><div class=\"sk-label sk-toggleable\"><input class=\"sk-toggleable__control sk-hidden--visually\" id=\"4072ff36-4882-4345-8f66-b46e15bad96b\" type=\"checkbox\" ><label class=\"sk-toggleable__label\" for=\"4072ff36-4882-4345-8f66-b46e15bad96b\">strings</label><div class=\"sk-toggleable__content\"><pre>[1, 4, 5, 6, 7, 8, 12]</pre></div></div></div><div class=\"sk-serial\"><div class=\"sk-item\"><div class=\"sk-estimator sk-toggleable\"><input class=\"sk-toggleable__control sk-hidden--visually\" id=\"2330848f-16c0-4f44-97dc-8c66a51fc137\" type=\"checkbox\" ><label class=\"sk-toggleable__label\" for=\"2330848f-16c0-4f44-97dc-8c66a51fc137\">OneHotEncoder</label><div class=\"sk-toggleable__content\"><pre>OneHotEncoder(handle_unknown='ignore')</pre></div></div></div></div></div></div></div></div><div class=\"sk-item\"><div class=\"sk-estimator sk-toggleable\"><input class=\"sk-toggleable__control sk-hidden--visually\" id=\"ec8596d1-d9e1-4775-b5f5-06a7d2c19342\" type=\"checkbox\" ><label class=\"sk-toggleable__label\" for=\"ec8596d1-d9e1-4775-b5f5-06a7d2c19342\">DummyClassifier</label><div class=\"sk-toggleable__content\"><pre>DummyClassifier(constant=0, strategy='constant')</pre></div></div></div></div></div></div></div>"
      ],
      "text/plain": [
       "Pipeline(steps=[('imputer', SimpleImputer(strategy='most_frequent')),\n",
       "                ('transformer',\n",
       "                 ColumnTransformer(transformers=[('numbers', MinMaxScaler(),\n",
       "                                                  [0, 2, 3, 9, 10, 11]),\n",
       "                                                 ('strings',\n",
       "                                                  OneHotEncoder(handle_unknown='ignore'),\n",
       "                                                  [1, 4, 5, 6, 7, 8, 12])])),\n",
       "                ('classifier',\n",
       "                 DummyClassifier(constant=0, strategy='constant'))])"
      ]
     },
     "execution_count": 43,
     "metadata": {},
     "output_type": "execute_result"
    }
   ],
   "source": [
    "pipe = skpipeline.Pipeline(steps=[\n",
    "    (\"imputer\", skimpute.SimpleImputer(missing_values=np.nan, strategy=\"most_frequent\")),\n",
    "    (\"transformer\", skcompose.ColumnTransformer(transformers=[\n",
    "        (\"numbers\", skprocessing.MinMaxScaler(), heading_numbers_index),\n",
    "        (\"strings\", skprocessing.OneHotEncoder(handle_unknown=\"ignore\"), heading_strings_index),\n",
    "    ])),\n",
    "    (\"classifier\", skdummy.DummyClassifier(strategy=\"constant\", constant=0))\n",
    "]).fit(train_features, train_labels)\n",
    "\n",
    "pipe"
   ]
  },
  {
   "cell_type": "code",
   "execution_count": 44,
   "metadata": {},
   "outputs": [
    {
     "name": "stdout",
     "output_type": "stream",
     "text": [
      "Train Accuracy Mean: 0.7579413870349414\n",
      "Test Accuracy Mean: 0.762104636139403\n",
      "\n",
      "Train Accuracy STD: 0.00019142755976423408\n",
      "Test Accuracy STD: 0.00019142755976423408\n"
     ]
    }
   ],
   "source": [
    "train_accuracy = skselection.cross_val_score(pipe, train_features, train_labels, cv=10)\n",
    "test_accuracy = skselection.cross_val_score(pipe, test_features, test_labels, cv=10)\n",
    "\n",
    "print(f\"Train Accuracy Mean: {train_accuracy.mean()}\")\n",
    "print(f\"Test Accuracy Mean: {test_accuracy.mean()}\")\n",
    "print(\"\")\n",
    "print(f\"Train Accuracy STD: {train_accuracy.std()}\")\n",
    "print(f\"Test Accuracy STD: {train_accuracy.std()}\")"
   ]
  },
  {
   "cell_type": "markdown",
   "id": "406acb3f",
   "metadata": {},
   "source": [
    "---"
   ]
  },
  {
   "cell_type": "markdown",
   "metadata": {},
   "source": [
    "## Problem (2)\n",
    "\n",
    "Now, we will define a **Data Pipeline** for handling entire workflow, this pipeline contains three steps:\n",
    "\n",
    "1. **Imputer**: Fills empty cells with `column mode`\n",
    "2. **Transformer**: Converts columns\n",
    "   1. **Numbers**: Converts number typed columns using `MinMaxScaler`\n",
    "   2. **Strings**: Converts string typed columns to numbers using `OneHotEncoder`\n",
    "3. **Classifier**: Classification using `logistic_regression`"
   ]
  },
  {
   "cell_type": "code",
   "execution_count": 45,
   "metadata": {},
   "outputs": [
    {
     "data": {
      "text/html": [
       "<style>#sk-fdf00253-bfbd-473d-8ca2-587a09ad0cbc {color: black;background-color: white;}#sk-fdf00253-bfbd-473d-8ca2-587a09ad0cbc pre{padding: 0;}#sk-fdf00253-bfbd-473d-8ca2-587a09ad0cbc div.sk-toggleable {background-color: white;}#sk-fdf00253-bfbd-473d-8ca2-587a09ad0cbc label.sk-toggleable__label {cursor: pointer;display: block;width: 100%;margin-bottom: 0;padding: 0.3em;box-sizing: border-box;text-align: center;}#sk-fdf00253-bfbd-473d-8ca2-587a09ad0cbc div.sk-toggleable__content {max-height: 0;max-width: 0;overflow: hidden;text-align: left;background-color: #f0f8ff;}#sk-fdf00253-bfbd-473d-8ca2-587a09ad0cbc div.sk-toggleable__content pre {margin: 0.2em;color: black;border-radius: 0.25em;background-color: #f0f8ff;}#sk-fdf00253-bfbd-473d-8ca2-587a09ad0cbc input.sk-toggleable__control:checked~div.sk-toggleable__content {max-height: 200px;max-width: 100%;overflow: auto;}#sk-fdf00253-bfbd-473d-8ca2-587a09ad0cbc div.sk-estimator input.sk-toggleable__control:checked~label.sk-toggleable__label {background-color: #d4ebff;}#sk-fdf00253-bfbd-473d-8ca2-587a09ad0cbc div.sk-label input.sk-toggleable__control:checked~label.sk-toggleable__label {background-color: #d4ebff;}#sk-fdf00253-bfbd-473d-8ca2-587a09ad0cbc input.sk-hidden--visually {border: 0;clip: rect(1px 1px 1px 1px);clip: rect(1px, 1px, 1px, 1px);height: 1px;margin: -1px;overflow: hidden;padding: 0;position: absolute;width: 1px;}#sk-fdf00253-bfbd-473d-8ca2-587a09ad0cbc div.sk-estimator {font-family: monospace;background-color: #f0f8ff;border: 1px dotted black;border-radius: 0.25em;box-sizing: border-box;margin-bottom: 0.5em;}#sk-fdf00253-bfbd-473d-8ca2-587a09ad0cbc div.sk-estimator:hover {background-color: #d4ebff;}#sk-fdf00253-bfbd-473d-8ca2-587a09ad0cbc div.sk-parallel-item::after {content: \"\";width: 100%;border-bottom: 1px solid gray;flex-grow: 1;}#sk-fdf00253-bfbd-473d-8ca2-587a09ad0cbc div.sk-label:hover label.sk-toggleable__label {background-color: #d4ebff;}#sk-fdf00253-bfbd-473d-8ca2-587a09ad0cbc div.sk-serial::before {content: \"\";position: absolute;border-left: 1px solid gray;box-sizing: border-box;top: 2em;bottom: 0;left: 50%;}#sk-fdf00253-bfbd-473d-8ca2-587a09ad0cbc div.sk-serial {display: flex;flex-direction: column;align-items: center;background-color: white;padding-right: 0.2em;padding-left: 0.2em;}#sk-fdf00253-bfbd-473d-8ca2-587a09ad0cbc div.sk-item {z-index: 1;}#sk-fdf00253-bfbd-473d-8ca2-587a09ad0cbc div.sk-parallel {display: flex;align-items: stretch;justify-content: center;background-color: white;}#sk-fdf00253-bfbd-473d-8ca2-587a09ad0cbc div.sk-parallel::before {content: \"\";position: absolute;border-left: 1px solid gray;box-sizing: border-box;top: 2em;bottom: 0;left: 50%;}#sk-fdf00253-bfbd-473d-8ca2-587a09ad0cbc div.sk-parallel-item {display: flex;flex-direction: column;position: relative;background-color: white;}#sk-fdf00253-bfbd-473d-8ca2-587a09ad0cbc div.sk-parallel-item:first-child::after {align-self: flex-end;width: 50%;}#sk-fdf00253-bfbd-473d-8ca2-587a09ad0cbc div.sk-parallel-item:last-child::after {align-self: flex-start;width: 50%;}#sk-fdf00253-bfbd-473d-8ca2-587a09ad0cbc div.sk-parallel-item:only-child::after {width: 0;}#sk-fdf00253-bfbd-473d-8ca2-587a09ad0cbc div.sk-dashed-wrapped {border: 1px dashed gray;margin: 0 0.4em 0.5em 0.4em;box-sizing: border-box;padding-bottom: 0.4em;background-color: white;position: relative;}#sk-fdf00253-bfbd-473d-8ca2-587a09ad0cbc div.sk-label label {font-family: monospace;font-weight: bold;background-color: white;display: inline-block;line-height: 1.2em;}#sk-fdf00253-bfbd-473d-8ca2-587a09ad0cbc div.sk-label-container {position: relative;z-index: 2;text-align: center;}#sk-fdf00253-bfbd-473d-8ca2-587a09ad0cbc div.sk-container {display: inline-block;position: relative;}</style><div id=\"sk-fdf00253-bfbd-473d-8ca2-587a09ad0cbc\" class\"sk-top-container\"><div class=\"sk-container\"><div class=\"sk-item sk-dashed-wrapped\"><div class=\"sk-label-container\"><div class=\"sk-label sk-toggleable\"><input class=\"sk-toggleable__control sk-hidden--visually\" id=\"6293fdc6-404d-4e06-a047-f73eb4470e8b\" type=\"checkbox\" ><label class=\"sk-toggleable__label\" for=\"6293fdc6-404d-4e06-a047-f73eb4470e8b\">Pipeline</label><div class=\"sk-toggleable__content\"><pre>Pipeline(steps=[('imputer', SimpleImputer(strategy='most_frequent')),\n",
       "                ('transformer',\n",
       "                 ColumnTransformer(transformers=[('numbers', MinMaxScaler(),\n",
       "                                                  [0, 2, 3, 9, 10, 11]),\n",
       "                                                 ('strings',\n",
       "                                                  OneHotEncoder(handle_unknown='ignore'),\n",
       "                                                  [1, 4, 5, 6, 7, 8, 12])])),\n",
       "                ('classifier', LogisticRegression(max_iter=1000))])</pre></div></div></div><div class=\"sk-serial\"><div class=\"sk-item\"><div class=\"sk-estimator sk-toggleable\"><input class=\"sk-toggleable__control sk-hidden--visually\" id=\"07c47c0d-8bcd-4f47-a18b-fbc6c26a0c7e\" type=\"checkbox\" ><label class=\"sk-toggleable__label\" for=\"07c47c0d-8bcd-4f47-a18b-fbc6c26a0c7e\">SimpleImputer</label><div class=\"sk-toggleable__content\"><pre>SimpleImputer(strategy='most_frequent')</pre></div></div></div><div class=\"sk-item sk-dashed-wrapped\"><div class=\"sk-label-container\"><div class=\"sk-label sk-toggleable\"><input class=\"sk-toggleable__control sk-hidden--visually\" id=\"3e966c7f-c347-4b67-8d24-1e6f7a9b6304\" type=\"checkbox\" ><label class=\"sk-toggleable__label\" for=\"3e966c7f-c347-4b67-8d24-1e6f7a9b6304\">transformer: ColumnTransformer</label><div class=\"sk-toggleable__content\"><pre>ColumnTransformer(transformers=[('numbers', MinMaxScaler(),\n",
       "                                 [0, 2, 3, 9, 10, 11]),\n",
       "                                ('strings',\n",
       "                                 OneHotEncoder(handle_unknown='ignore'),\n",
       "                                 [1, 4, 5, 6, 7, 8, 12])])</pre></div></div></div><div class=\"sk-parallel\"><div class=\"sk-parallel-item\"><div class=\"sk-item\"><div class=\"sk-label-container\"><div class=\"sk-label sk-toggleable\"><input class=\"sk-toggleable__control sk-hidden--visually\" id=\"e3e4ccde-1abe-4416-b6ad-37adbab2b346\" type=\"checkbox\" ><label class=\"sk-toggleable__label\" for=\"e3e4ccde-1abe-4416-b6ad-37adbab2b346\">numbers</label><div class=\"sk-toggleable__content\"><pre>[0, 2, 3, 9, 10, 11]</pre></div></div></div><div class=\"sk-serial\"><div class=\"sk-item\"><div class=\"sk-estimator sk-toggleable\"><input class=\"sk-toggleable__control sk-hidden--visually\" id=\"2f0df27f-785e-46ba-bf2e-4a546b871b0e\" type=\"checkbox\" ><label class=\"sk-toggleable__label\" for=\"2f0df27f-785e-46ba-bf2e-4a546b871b0e\">MinMaxScaler</label><div class=\"sk-toggleable__content\"><pre>MinMaxScaler()</pre></div></div></div></div></div></div><div class=\"sk-parallel-item\"><div class=\"sk-item\"><div class=\"sk-label-container\"><div class=\"sk-label sk-toggleable\"><input class=\"sk-toggleable__control sk-hidden--visually\" id=\"7f2f0bd3-257e-47b9-8fa4-72fc2c581181\" type=\"checkbox\" ><label class=\"sk-toggleable__label\" for=\"7f2f0bd3-257e-47b9-8fa4-72fc2c581181\">strings</label><div class=\"sk-toggleable__content\"><pre>[1, 4, 5, 6, 7, 8, 12]</pre></div></div></div><div class=\"sk-serial\"><div class=\"sk-item\"><div class=\"sk-estimator sk-toggleable\"><input class=\"sk-toggleable__control sk-hidden--visually\" id=\"e857314f-3e40-464c-87a7-6ce5a0667916\" type=\"checkbox\" ><label class=\"sk-toggleable__label\" for=\"e857314f-3e40-464c-87a7-6ce5a0667916\">OneHotEncoder</label><div class=\"sk-toggleable__content\"><pre>OneHotEncoder(handle_unknown='ignore')</pre></div></div></div></div></div></div></div></div><div class=\"sk-item\"><div class=\"sk-estimator sk-toggleable\"><input class=\"sk-toggleable__control sk-hidden--visually\" id=\"5da2bdb3-23e0-42ac-b276-8d0ea51327f0\" type=\"checkbox\" ><label class=\"sk-toggleable__label\" for=\"5da2bdb3-23e0-42ac-b276-8d0ea51327f0\">LogisticRegression</label><div class=\"sk-toggleable__content\"><pre>LogisticRegression(max_iter=1000)</pre></div></div></div></div></div></div></div>"
      ],
      "text/plain": [
       "Pipeline(steps=[('imputer', SimpleImputer(strategy='most_frequent')),\n",
       "                ('transformer',\n",
       "                 ColumnTransformer(transformers=[('numbers', MinMaxScaler(),\n",
       "                                                  [0, 2, 3, 9, 10, 11]),\n",
       "                                                 ('strings',\n",
       "                                                  OneHotEncoder(handle_unknown='ignore'),\n",
       "                                                  [1, 4, 5, 6, 7, 8, 12])])),\n",
       "                ('classifier', LogisticRegression(max_iter=1000))])"
      ]
     },
     "execution_count": 45,
     "metadata": {},
     "output_type": "execute_result"
    }
   ],
   "source": [
    "pipe = skpipeline.Pipeline(steps=[\n",
    "    (\"imputer\", skimpute.SimpleImputer(missing_values=np.nan, strategy=\"most_frequent\")),\n",
    "    (\"transformer\", skcompose.ColumnTransformer(transformers=[\n",
    "        (\"numbers\", skprocessing.MinMaxScaler(), heading_numbers_index),\n",
    "        (\"strings\", skprocessing.OneHotEncoder(handle_unknown=\"ignore\"), heading_strings_index),\n",
    "    ])),\n",
    "    (\"classifier\", sklinear.LogisticRegression(max_iter=1000))\n",
    "]).fit(train_features, train_labels)\n",
    "\n",
    "pipe"
   ]
  },
  {
   "cell_type": "code",
   "execution_count": 46,
   "metadata": {},
   "outputs": [
    {
     "name": "stdout",
     "output_type": "stream",
     "text": [
      "Train Accuracy Mean: 0.8485871573404771\n",
      "Test Accuracy Mean: 0.8472704162961223\n",
      "\n",
      "Train Accuracy STD: 0.004899943692374601\n",
      "Test Accuracy STD: 0.004899943692374601\n"
     ]
    }
   ],
   "source": [
    "train_accuracy = skselection.cross_val_score(pipe, train_features, train_labels, cv=10)\n",
    "test_accuracy = skselection.cross_val_score(pipe, test_features, test_labels, cv=10)\n",
    "\n",
    "print(f\"Train Accuracy Mean: {train_accuracy.mean()}\")\n",
    "print(f\"Test Accuracy Mean: {test_accuracy.mean()}\")\n",
    "print(\"\")\n",
    "print(f\"Train Accuracy STD: {train_accuracy.std()}\")\n",
    "print(f\"Test Accuracy STD: {train_accuracy.std()}\")"
   ]
  },
  {
   "cell_type": "markdown",
   "id": "406acb3f",
   "metadata": {},
   "source": [
    "---"
   ]
  },
  {
   "cell_type": "markdown",
   "metadata": {},
   "source": [
    "## Problem (3)\n",
    "\n",
    "Now, we will define a **Data Pipeline** for handling entire workflow, this pipeline contains three steps:\n",
    "\n",
    "1. **Imputer**: Fills empty cells with `column mode`\n",
    "2. **Transformer**: Converts columns\n",
    "   1. **Numbers**: Converts number typed columns using `MinMaxScaler`\n",
    "   2. **Strings**: Converts string typed columns to numbers using `OneHotEncoder`\n",
    "3. **Classifier**: Classification using `naive_bayes`"
   ]
  },
  {
   "cell_type": "code",
   "execution_count": 47,
   "metadata": {},
   "outputs": [
    {
     "data": {
      "text/html": [
       "<style>#sk-62a11e23-3e02-4586-85dc-2c9e11ed58ab {color: black;background-color: white;}#sk-62a11e23-3e02-4586-85dc-2c9e11ed58ab pre{padding: 0;}#sk-62a11e23-3e02-4586-85dc-2c9e11ed58ab div.sk-toggleable {background-color: white;}#sk-62a11e23-3e02-4586-85dc-2c9e11ed58ab label.sk-toggleable__label {cursor: pointer;display: block;width: 100%;margin-bottom: 0;padding: 0.3em;box-sizing: border-box;text-align: center;}#sk-62a11e23-3e02-4586-85dc-2c9e11ed58ab div.sk-toggleable__content {max-height: 0;max-width: 0;overflow: hidden;text-align: left;background-color: #f0f8ff;}#sk-62a11e23-3e02-4586-85dc-2c9e11ed58ab div.sk-toggleable__content pre {margin: 0.2em;color: black;border-radius: 0.25em;background-color: #f0f8ff;}#sk-62a11e23-3e02-4586-85dc-2c9e11ed58ab input.sk-toggleable__control:checked~div.sk-toggleable__content {max-height: 200px;max-width: 100%;overflow: auto;}#sk-62a11e23-3e02-4586-85dc-2c9e11ed58ab div.sk-estimator input.sk-toggleable__control:checked~label.sk-toggleable__label {background-color: #d4ebff;}#sk-62a11e23-3e02-4586-85dc-2c9e11ed58ab div.sk-label input.sk-toggleable__control:checked~label.sk-toggleable__label {background-color: #d4ebff;}#sk-62a11e23-3e02-4586-85dc-2c9e11ed58ab input.sk-hidden--visually {border: 0;clip: rect(1px 1px 1px 1px);clip: rect(1px, 1px, 1px, 1px);height: 1px;margin: -1px;overflow: hidden;padding: 0;position: absolute;width: 1px;}#sk-62a11e23-3e02-4586-85dc-2c9e11ed58ab div.sk-estimator {font-family: monospace;background-color: #f0f8ff;border: 1px dotted black;border-radius: 0.25em;box-sizing: border-box;margin-bottom: 0.5em;}#sk-62a11e23-3e02-4586-85dc-2c9e11ed58ab div.sk-estimator:hover {background-color: #d4ebff;}#sk-62a11e23-3e02-4586-85dc-2c9e11ed58ab div.sk-parallel-item::after {content: \"\";width: 100%;border-bottom: 1px solid gray;flex-grow: 1;}#sk-62a11e23-3e02-4586-85dc-2c9e11ed58ab div.sk-label:hover label.sk-toggleable__label {background-color: #d4ebff;}#sk-62a11e23-3e02-4586-85dc-2c9e11ed58ab div.sk-serial::before {content: \"\";position: absolute;border-left: 1px solid gray;box-sizing: border-box;top: 2em;bottom: 0;left: 50%;}#sk-62a11e23-3e02-4586-85dc-2c9e11ed58ab div.sk-serial {display: flex;flex-direction: column;align-items: center;background-color: white;padding-right: 0.2em;padding-left: 0.2em;}#sk-62a11e23-3e02-4586-85dc-2c9e11ed58ab div.sk-item {z-index: 1;}#sk-62a11e23-3e02-4586-85dc-2c9e11ed58ab div.sk-parallel {display: flex;align-items: stretch;justify-content: center;background-color: white;}#sk-62a11e23-3e02-4586-85dc-2c9e11ed58ab div.sk-parallel::before {content: \"\";position: absolute;border-left: 1px solid gray;box-sizing: border-box;top: 2em;bottom: 0;left: 50%;}#sk-62a11e23-3e02-4586-85dc-2c9e11ed58ab div.sk-parallel-item {display: flex;flex-direction: column;position: relative;background-color: white;}#sk-62a11e23-3e02-4586-85dc-2c9e11ed58ab div.sk-parallel-item:first-child::after {align-self: flex-end;width: 50%;}#sk-62a11e23-3e02-4586-85dc-2c9e11ed58ab div.sk-parallel-item:last-child::after {align-self: flex-start;width: 50%;}#sk-62a11e23-3e02-4586-85dc-2c9e11ed58ab div.sk-parallel-item:only-child::after {width: 0;}#sk-62a11e23-3e02-4586-85dc-2c9e11ed58ab div.sk-dashed-wrapped {border: 1px dashed gray;margin: 0 0.4em 0.5em 0.4em;box-sizing: border-box;padding-bottom: 0.4em;background-color: white;position: relative;}#sk-62a11e23-3e02-4586-85dc-2c9e11ed58ab div.sk-label label {font-family: monospace;font-weight: bold;background-color: white;display: inline-block;line-height: 1.2em;}#sk-62a11e23-3e02-4586-85dc-2c9e11ed58ab div.sk-label-container {position: relative;z-index: 2;text-align: center;}#sk-62a11e23-3e02-4586-85dc-2c9e11ed58ab div.sk-container {display: inline-block;position: relative;}</style><div id=\"sk-62a11e23-3e02-4586-85dc-2c9e11ed58ab\" class\"sk-top-container\"><div class=\"sk-container\"><div class=\"sk-item sk-dashed-wrapped\"><div class=\"sk-label-container\"><div class=\"sk-label sk-toggleable\"><input class=\"sk-toggleable__control sk-hidden--visually\" id=\"73bfc46e-e673-4c45-a374-d4679850ef8c\" type=\"checkbox\" ><label class=\"sk-toggleable__label\" for=\"73bfc46e-e673-4c45-a374-d4679850ef8c\">Pipeline</label><div class=\"sk-toggleable__content\"><pre>Pipeline(steps=[('imputer', SimpleImputer(strategy='most_frequent')),\n",
       "                ('transformer',\n",
       "                 ColumnTransformer(transformers=[('numbers', MinMaxScaler(),\n",
       "                                                  [0, 2, 3, 9, 10, 11]),\n",
       "                                                 ('strings',\n",
       "                                                  OneHotEncoder(handle_unknown='ignore'),\n",
       "                                                  [1, 4, 5, 6, 7, 8, 12])])),\n",
       "                ('classifier', MultinomialNB())])</pre></div></div></div><div class=\"sk-serial\"><div class=\"sk-item\"><div class=\"sk-estimator sk-toggleable\"><input class=\"sk-toggleable__control sk-hidden--visually\" id=\"4523ced5-a3ea-4c5c-8a27-3b58b3ac6ca5\" type=\"checkbox\" ><label class=\"sk-toggleable__label\" for=\"4523ced5-a3ea-4c5c-8a27-3b58b3ac6ca5\">SimpleImputer</label><div class=\"sk-toggleable__content\"><pre>SimpleImputer(strategy='most_frequent')</pre></div></div></div><div class=\"sk-item sk-dashed-wrapped\"><div class=\"sk-label-container\"><div class=\"sk-label sk-toggleable\"><input class=\"sk-toggleable__control sk-hidden--visually\" id=\"8e04679c-9f67-41a4-a37c-4a226f3672dc\" type=\"checkbox\" ><label class=\"sk-toggleable__label\" for=\"8e04679c-9f67-41a4-a37c-4a226f3672dc\">transformer: ColumnTransformer</label><div class=\"sk-toggleable__content\"><pre>ColumnTransformer(transformers=[('numbers', MinMaxScaler(),\n",
       "                                 [0, 2, 3, 9, 10, 11]),\n",
       "                                ('strings',\n",
       "                                 OneHotEncoder(handle_unknown='ignore'),\n",
       "                                 [1, 4, 5, 6, 7, 8, 12])])</pre></div></div></div><div class=\"sk-parallel\"><div class=\"sk-parallel-item\"><div class=\"sk-item\"><div class=\"sk-label-container\"><div class=\"sk-label sk-toggleable\"><input class=\"sk-toggleable__control sk-hidden--visually\" id=\"4bfc8054-7d4b-4b49-8e0d-e4c95e0bf577\" type=\"checkbox\" ><label class=\"sk-toggleable__label\" for=\"4bfc8054-7d4b-4b49-8e0d-e4c95e0bf577\">numbers</label><div class=\"sk-toggleable__content\"><pre>[0, 2, 3, 9, 10, 11]</pre></div></div></div><div class=\"sk-serial\"><div class=\"sk-item\"><div class=\"sk-estimator sk-toggleable\"><input class=\"sk-toggleable__control sk-hidden--visually\" id=\"564f09e3-57cf-453a-b6e2-dcc8cf263e06\" type=\"checkbox\" ><label class=\"sk-toggleable__label\" for=\"564f09e3-57cf-453a-b6e2-dcc8cf263e06\">MinMaxScaler</label><div class=\"sk-toggleable__content\"><pre>MinMaxScaler()</pre></div></div></div></div></div></div><div class=\"sk-parallel-item\"><div class=\"sk-item\"><div class=\"sk-label-container\"><div class=\"sk-label sk-toggleable\"><input class=\"sk-toggleable__control sk-hidden--visually\" id=\"28f3de4b-ed55-4e76-aaf3-4505a0c1f6f8\" type=\"checkbox\" ><label class=\"sk-toggleable__label\" for=\"28f3de4b-ed55-4e76-aaf3-4505a0c1f6f8\">strings</label><div class=\"sk-toggleable__content\"><pre>[1, 4, 5, 6, 7, 8, 12]</pre></div></div></div><div class=\"sk-serial\"><div class=\"sk-item\"><div class=\"sk-estimator sk-toggleable\"><input class=\"sk-toggleable__control sk-hidden--visually\" id=\"558ee807-7d0e-47db-8453-ea7169805110\" type=\"checkbox\" ><label class=\"sk-toggleable__label\" for=\"558ee807-7d0e-47db-8453-ea7169805110\">OneHotEncoder</label><div class=\"sk-toggleable__content\"><pre>OneHotEncoder(handle_unknown='ignore')</pre></div></div></div></div></div></div></div></div><div class=\"sk-item\"><div class=\"sk-estimator sk-toggleable\"><input class=\"sk-toggleable__control sk-hidden--visually\" id=\"3716860e-305b-4ccf-a5cc-56a6f2786081\" type=\"checkbox\" ><label class=\"sk-toggleable__label\" for=\"3716860e-305b-4ccf-a5cc-56a6f2786081\">MultinomialNB</label><div class=\"sk-toggleable__content\"><pre>MultinomialNB()</pre></div></div></div></div></div></div></div>"
      ],
      "text/plain": [
       "Pipeline(steps=[('imputer', SimpleImputer(strategy='most_frequent')),\n",
       "                ('transformer',\n",
       "                 ColumnTransformer(transformers=[('numbers', MinMaxScaler(),\n",
       "                                                  [0, 2, 3, 9, 10, 11]),\n",
       "                                                 ('strings',\n",
       "                                                  OneHotEncoder(handle_unknown='ignore'),\n",
       "                                                  [1, 4, 5, 6, 7, 8, 12])])),\n",
       "                ('classifier', MultinomialNB())])"
      ]
     },
     "execution_count": 47,
     "metadata": {},
     "output_type": "execute_result"
    }
   ],
   "source": [
    "pipe = skpipeline.Pipeline(steps=[\n",
    "    (\"imputer\", skimpute.SimpleImputer(missing_values=np.nan, strategy=\"most_frequent\")),\n",
    "    (\"transformer\", skcompose.ColumnTransformer(transformers=[\n",
    "        (\"numbers\", skprocessing.MinMaxScaler(), heading_numbers_index),\n",
    "        (\"strings\", skprocessing.OneHotEncoder(handle_unknown=\"ignore\"), heading_strings_index),\n",
    "    ])),\n",
    "    (\"classifier\", skbayes.MultinomialNB())\n",
    "]).fit(train_features, train_labels)\n",
    "\n",
    "pipe"
   ]
  },
  {
   "cell_type": "code",
   "execution_count": 48,
   "metadata": {},
   "outputs": [
    {
     "name": "stdout",
     "output_type": "stream",
     "text": [
      "Train Accuracy Mean: 0.7631190773115325\n",
      "Test Accuracy Mean: 0.7630255088343374\n",
      "\n",
      "Train Accuracy STD: 0.006856513610407651\n",
      "Test Accuracy STD: 0.006856513610407651\n"
     ]
    }
   ],
   "source": [
    "train_accuracy = skselection.cross_val_score(pipe, train_features, train_labels, cv=10)\n",
    "test_accuracy = skselection.cross_val_score(pipe, test_features, test_labels, cv=10)\n",
    "\n",
    "print(f\"Train Accuracy Mean: {train_accuracy.mean()}\")\n",
    "print(f\"Test Accuracy Mean: {test_accuracy.mean()}\")\n",
    "print(\"\")\n",
    "print(f\"Train Accuracy STD: {train_accuracy.std()}\")\n",
    "print(f\"Test Accuracy STD: {train_accuracy.std()}\")"
   ]
  },
  {
   "cell_type": "markdown",
   "id": "406acb3f",
   "metadata": {},
   "source": [
    "### Results\n",
    "\n",
    "As we can see, the accuracy of **Naive Bayes** and **Baseline** are close to each other, because the relation between the label and the features is complicated.\n",
    "\n",
    "---"
   ]
  },
  {
   "cell_type": "markdown",
   "metadata": {},
   "source": [
    "## Problem (4)\n",
    "\n",
    "- Most of the persons have income `<50K`, so the **Dummy Baseline** classifier accuracy, was high.\n",
    "- The relation of the features is complicated, so the **Naive Bayes** classifier accuracy, is close to `baseline`.\n",
    "- The **Logistic Regression**, can find a simple linear relation between features, so the accuracy is higher.\n",
    "\n",
    "---"
   ]
  }
 ],
 "metadata": {
  "interpreter": {
   "hash": "a9173cfc6c23b40f13a388877cb5047b1f7084b987bbc0dbbf80d7431e1b559f"
  },
  "kernelspec": {
   "display_name": "Python 3.8.0 64-bit ('.venv': poetry)",
   "language": "python",
   "name": "python3"
  },
  "language_info": {
   "codemirror_mode": {
    "name": "ipython",
    "version": 3
   },
   "file_extension": ".py",
   "mimetype": "text/x-python",
   "name": "python",
   "nbconvert_exporter": "python",
   "pygments_lexer": "ipython3",
   "version": "3.8.0"
  },
  "orig_nbformat": 4
 },
 "nbformat": 4,
 "nbformat_minor": 2
}

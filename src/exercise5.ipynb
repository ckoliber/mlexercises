{
 "cells": [
  {
   "cell_type": "markdown",
   "id": "08e0ffec",
   "metadata": {},
   "source": [
    "# ML Answers\n",
    "\n",
    "- **Answer Set**: No. 05\n",
    "- **Full Name**: Mohammad Hosein Nemati\n",
    "- **Student Code**: `610300185`"
   ]
  },
  {
   "cell_type": "markdown",
   "id": "6595aa20",
   "metadata": {},
   "source": [
    "---"
   ]
  },
  {
   "cell_type": "markdown",
   "id": "f4ed694d",
   "metadata": {},
   "source": [
    "## Basics\n",
    "\n",
    "In this section we will done some basic steps:"
   ]
  },
  {
   "cell_type": "markdown",
   "id": "679cf505",
   "metadata": {},
   "source": [
    "### Libraries\n",
    "\n",
    "Before begin, we must import these required libraries:"
   ]
  },
  {
   "cell_type": "code",
   "execution_count": 204,
   "id": "8d1e4ab7",
   "metadata": {},
   "outputs": [],
   "source": [
    "import numpy as np\n",
    "import pandas as pd\n",
    "import sklearn as sk\n",
    "\n",
    "import sklearn.utils as skutils\n",
    "import sklearn.dummy as skdummy\n",
    "import sklearn.impute as skimpute\n",
    "import sklearn.metrics as skmetrics\n",
    "import sklearn.compose as skcompose\n",
    "import sklearn.pipeline as skpipeline\n",
    "import sklearn.naive_bayes as skbayes\n",
    "import sklearn.linear_model as sklinear\n",
    "import sklearn.preprocessing as skprocessing\n",
    "import sklearn.model_selection as skselection\n",
    "\n",
    "import matplotlib.pyplot as plt\n",
    "\n",
    "sk.set_config(display=\"diagram\")"
   ]
  },
  {
   "cell_type": "markdown",
   "id": "8d32c3cd",
   "metadata": {},
   "source": [
    "### Dataset\n",
    "\n",
    "Now we can load our dataset:"
   ]
  },
  {
   "cell_type": "code",
   "execution_count": 227,
   "id": "75759233",
   "metadata": {},
   "outputs": [
    {
     "data": {
      "text/html": [
       "<div>\n",
       "<style scoped>\n",
       "    .dataframe tbody tr th:only-of-type {\n",
       "        vertical-align: middle;\n",
       "    }\n",
       "\n",
       "    .dataframe tbody tr th {\n",
       "        vertical-align: top;\n",
       "    }\n",
       "\n",
       "    .dataframe thead th {\n",
       "        text-align: right;\n",
       "    }\n",
       "</style>\n",
       "<table border=\"1\" class=\"dataframe\">\n",
       "  <thead>\n",
       "    <tr style=\"text-align: right;\">\n",
       "      <th></th>\n",
       "      <th>Age</th>\n",
       "      <th>WorkClass</th>\n",
       "      <th>FinancialWeight</th>\n",
       "      <th>Education-num</th>\n",
       "      <th>MaritalStatus</th>\n",
       "      <th>Occupation</th>\n",
       "      <th>Relationship</th>\n",
       "      <th>Race</th>\n",
       "      <th>Sex</th>\n",
       "      <th>CapitalGain</th>\n",
       "      <th>CapitalLoss</th>\n",
       "      <th>HourPerWeek</th>\n",
       "      <th>NativeCountry</th>\n",
       "    </tr>\n",
       "  </thead>\n",
       "  <tbody>\n",
       "    <tr>\n",
       "      <th>24050</th>\n",
       "      <td>24</td>\n",
       "      <td>Private</td>\n",
       "      <td>456460</td>\n",
       "      <td>12</td>\n",
       "      <td>Married-civ-spouse</td>\n",
       "      <td>Adm-clerical</td>\n",
       "      <td>Wife</td>\n",
       "      <td>White</td>\n",
       "      <td>Female</td>\n",
       "      <td>0</td>\n",
       "      <td>0</td>\n",
       "      <td>40</td>\n",
       "      <td>United-States</td>\n",
       "    </tr>\n",
       "    <tr>\n",
       "      <th>23009</th>\n",
       "      <td>31</td>\n",
       "      <td>NaN</td>\n",
       "      <td>283531</td>\n",
       "      <td>9</td>\n",
       "      <td>Divorced</td>\n",
       "      <td>NaN</td>\n",
       "      <td>Unmarried</td>\n",
       "      <td>Black</td>\n",
       "      <td>Female</td>\n",
       "      <td>0</td>\n",
       "      <td>0</td>\n",
       "      <td>20</td>\n",
       "      <td>United-States</td>\n",
       "    </tr>\n",
       "    <tr>\n",
       "      <th>1583</th>\n",
       "      <td>39</td>\n",
       "      <td>Private</td>\n",
       "      <td>128715</td>\n",
       "      <td>9</td>\n",
       "      <td>Divorced</td>\n",
       "      <td>Adm-clerical</td>\n",
       "      <td>Not-in-family</td>\n",
       "      <td>White</td>\n",
       "      <td>Male</td>\n",
       "      <td>10520</td>\n",
       "      <td>0</td>\n",
       "      <td>40</td>\n",
       "      <td>United-States</td>\n",
       "    </tr>\n",
       "    <tr>\n",
       "      <th>21878</th>\n",
       "      <td>37</td>\n",
       "      <td>Private</td>\n",
       "      <td>176073</td>\n",
       "      <td>10</td>\n",
       "      <td>Divorced</td>\n",
       "      <td>Craft-repair</td>\n",
       "      <td>Not-in-family</td>\n",
       "      <td>White</td>\n",
       "      <td>Male</td>\n",
       "      <td>0</td>\n",
       "      <td>0</td>\n",
       "      <td>50</td>\n",
       "      <td>United-States</td>\n",
       "    </tr>\n",
       "    <tr>\n",
       "      <th>17669</th>\n",
       "      <td>37</td>\n",
       "      <td>Private</td>\n",
       "      <td>83880</td>\n",
       "      <td>10</td>\n",
       "      <td>Never-married</td>\n",
       "      <td>Craft-repair</td>\n",
       "      <td>Not-in-family</td>\n",
       "      <td>White</td>\n",
       "      <td>Male</td>\n",
       "      <td>0</td>\n",
       "      <td>0</td>\n",
       "      <td>40</td>\n",
       "      <td>United-States</td>\n",
       "    </tr>\n",
       "    <tr>\n",
       "      <th>...</th>\n",
       "      <td>...</td>\n",
       "      <td>...</td>\n",
       "      <td>...</td>\n",
       "      <td>...</td>\n",
       "      <td>...</td>\n",
       "      <td>...</td>\n",
       "      <td>...</td>\n",
       "      <td>...</td>\n",
       "      <td>...</td>\n",
       "      <td>...</td>\n",
       "      <td>...</td>\n",
       "      <td>...</td>\n",
       "      <td>...</td>\n",
       "    </tr>\n",
       "    <tr>\n",
       "      <th>22175</th>\n",
       "      <td>35</td>\n",
       "      <td>Self-emp-inc</td>\n",
       "      <td>187046</td>\n",
       "      <td>14</td>\n",
       "      <td>Married-civ-spouse</td>\n",
       "      <td>Adm-clerical</td>\n",
       "      <td>Husband</td>\n",
       "      <td>White</td>\n",
       "      <td>Male</td>\n",
       "      <td>0</td>\n",
       "      <td>0</td>\n",
       "      <td>50</td>\n",
       "      <td>United-States</td>\n",
       "    </tr>\n",
       "    <tr>\n",
       "      <th>26552</th>\n",
       "      <td>54</td>\n",
       "      <td>Private</td>\n",
       "      <td>189607</td>\n",
       "      <td>13</td>\n",
       "      <td>Never-married</td>\n",
       "      <td>Other-service</td>\n",
       "      <td>Own-child</td>\n",
       "      <td>Black</td>\n",
       "      <td>Female</td>\n",
       "      <td>0</td>\n",
       "      <td>0</td>\n",
       "      <td>36</td>\n",
       "      <td>United-States</td>\n",
       "    </tr>\n",
       "    <tr>\n",
       "      <th>3369</th>\n",
       "      <td>61</td>\n",
       "      <td>Private</td>\n",
       "      <td>149653</td>\n",
       "      <td>9</td>\n",
       "      <td>Married-civ-spouse</td>\n",
       "      <td>Exec-managerial</td>\n",
       "      <td>Husband</td>\n",
       "      <td>White</td>\n",
       "      <td>Male</td>\n",
       "      <td>0</td>\n",
       "      <td>0</td>\n",
       "      <td>50</td>\n",
       "      <td>United-States</td>\n",
       "    </tr>\n",
       "    <tr>\n",
       "      <th>17866</th>\n",
       "      <td>21</td>\n",
       "      <td>Private</td>\n",
       "      <td>147655</td>\n",
       "      <td>9</td>\n",
       "      <td>Never-married</td>\n",
       "      <td>Other-service</td>\n",
       "      <td>Own-child</td>\n",
       "      <td>White</td>\n",
       "      <td>Female</td>\n",
       "      <td>0</td>\n",
       "      <td>0</td>\n",
       "      <td>35</td>\n",
       "      <td>United-States</td>\n",
       "    </tr>\n",
       "    <tr>\n",
       "      <th>7399</th>\n",
       "      <td>42</td>\n",
       "      <td>Local-gov</td>\n",
       "      <td>227065</td>\n",
       "      <td>14</td>\n",
       "      <td>Never-married</td>\n",
       "      <td>Prof-specialty</td>\n",
       "      <td>Not-in-family</td>\n",
       "      <td>White</td>\n",
       "      <td>Male</td>\n",
       "      <td>0</td>\n",
       "      <td>0</td>\n",
       "      <td>22</td>\n",
       "      <td>United-States</td>\n",
       "    </tr>\n",
       "  </tbody>\n",
       "</table>\n",
       "<p>32561 rows × 13 columns</p>\n",
       "</div>"
      ],
      "text/plain": [
       "       Age      WorkClass  FinancialWeight  Education-num  \\\n",
       "24050   24        Private           456460             12   \n",
       "23009   31            NaN           283531              9   \n",
       "1583    39        Private           128715              9   \n",
       "21878   37        Private           176073             10   \n",
       "17669   37        Private            83880             10   \n",
       "...    ...            ...              ...            ...   \n",
       "22175   35   Self-emp-inc           187046             14   \n",
       "26552   54        Private           189607             13   \n",
       "3369    61        Private           149653              9   \n",
       "17866   21        Private           147655              9   \n",
       "7399    42      Local-gov           227065             14   \n",
       "\n",
       "             MaritalStatus        Occupation    Relationship    Race      Sex  \\\n",
       "24050   Married-civ-spouse      Adm-clerical            Wife   White   Female   \n",
       "23009             Divorced               NaN       Unmarried   Black   Female   \n",
       "1583              Divorced      Adm-clerical   Not-in-family   White     Male   \n",
       "21878             Divorced      Craft-repair   Not-in-family   White     Male   \n",
       "17669        Never-married      Craft-repair   Not-in-family   White     Male   \n",
       "...                    ...               ...             ...     ...      ...   \n",
       "22175   Married-civ-spouse      Adm-clerical         Husband   White     Male   \n",
       "26552        Never-married     Other-service       Own-child   Black   Female   \n",
       "3369    Married-civ-spouse   Exec-managerial         Husband   White     Male   \n",
       "17866        Never-married     Other-service       Own-child   White   Female   \n",
       "7399         Never-married    Prof-specialty   Not-in-family   White     Male   \n",
       "\n",
       "       CapitalGain  CapitalLoss  HourPerWeek   NativeCountry  \n",
       "24050            0            0           40   United-States  \n",
       "23009            0            0           20   United-States  \n",
       "1583         10520            0           40   United-States  \n",
       "21878            0            0           50   United-States  \n",
       "17669            0            0           40   United-States  \n",
       "...            ...          ...          ...             ...  \n",
       "22175            0            0           50   United-States  \n",
       "26552            0            0           36   United-States  \n",
       "3369             0            0           50   United-States  \n",
       "17866            0            0           35   United-States  \n",
       "7399             0            0           22   United-States  \n",
       "\n",
       "[32561 rows x 13 columns]"
      ]
     },
     "execution_count": 227,
     "metadata": {},
     "output_type": "execute_result"
    }
   ],
   "source": [
    "data_frame = pd.read_csv(\"../lib/HW5.csv\")\n",
    "data_frame = skutils.shuffle(data_frame)\n",
    "\n",
    "data_label = data_frame[\"Income\"]\n",
    "data_frame = data_frame.drop([\"Income\", \"Education\"], axis=1)\n",
    "\n",
    "data_features = data_frame.to_numpy()\n",
    "data_labels = data_label.to_numpy()\n",
    "\n",
    "data_labels[data_labels == \" <=50K\"] = 0\n",
    "data_labels[data_labels == \" >50K\"] = 1\n",
    "\n",
    "data_labels = np.array(data_labels, dtype=np.int32)\n",
    "\n",
    "train_features, test_features, train_labels, test_labels = skselection.train_test_split(\n",
    "    data_features, \n",
    "    data_labels, \n",
    "    test_size=0.3, \n",
    "    random_state=313\n",
    ")\n",
    "\n",
    "data_frame"
   ]
  },
  {
   "cell_type": "markdown",
   "metadata": {},
   "source": [
    "---"
   ]
  },
  {
   "cell_type": "markdown",
   "metadata": {},
   "source": [
    "## Problem (1)"
   ]
  },
  {
   "cell_type": "markdown",
   "metadata": {},
   "source": [
    "### Part (a)"
   ]
  },
  {
   "cell_type": "code",
   "execution_count": 229,
   "metadata": {},
   "outputs": [
    {
     "name": "stdout",
     "output_type": "stream",
     "text": [
      "Column Types:\n",
      "Numbers: Age, FinancialWeight, Education-num, CapitalGain, CapitalLoss, HourPerWeek\n",
      "Strings: WorkClass, MaritalStatus, Occupation, Relationship, Race, Sex, NativeCountry\n"
     ]
    }
   ],
   "source": [
    "print(\"Column Types:\")\n",
    "\n",
    "heading_numbers = [label for label in data_frame if str(data_frame.loc[0, label]).isdigit()]\n",
    "heading_strings = [label for label in data_frame if not str(data_frame.loc[0, label]).isdigit()]\n",
    "\n",
    "heading_numbers_index = [data_frame.columns.get_loc(label) for label in heading_numbers]\n",
    "heading_strings_index = [data_frame.columns.get_loc(label) for label in heading_strings]\n",
    "\n",
    "print(f\"Numbers: {', '.join(heading_numbers)}\")\n",
    "print(f\"Strings: {', '.join(heading_strings)}\")"
   ]
  },
  {
   "cell_type": "markdown",
   "metadata": {},
   "source": [
    "---"
   ]
  },
  {
   "cell_type": "markdown",
   "metadata": {},
   "source": [
    "### Part (b)"
   ]
  },
  {
   "cell_type": "code",
   "execution_count": 230,
   "metadata": {},
   "outputs": [
    {
     "name": "stdout",
     "output_type": "stream",
     "text": [
      "Column Nulls:\n",
      "\n",
      "WorkClass: 1836\n",
      "Occupation: 1843\n",
      "NativeCountry: 583\n"
     ]
    }
   ],
   "source": [
    "print(\"Column Nulls:\")\n",
    "print(\"\")\n",
    "\n",
    "null_columns = []\n",
    "\n",
    "for label in data_frame:\n",
    "    nulls = len(data_frame[label][pd.isna(data_frame[label])])\n",
    "    \n",
    "    if (nulls > 0):\n",
    "        null_columns.append(label)\n",
    "        print(f\"{label}: {nulls}\")"
   ]
  },
  {
   "cell_type": "markdown",
   "metadata": {},
   "source": [
    "---"
   ]
  },
  {
   "cell_type": "markdown",
   "metadata": {},
   "source": [
    "### Part (c)\n",
    "\n",
    "Because the columns that contains null records are string typed, we can use **Mode of Column** for the null cells"
   ]
  },
  {
   "cell_type": "markdown",
   "id": "406acb3f",
   "metadata": {},
   "source": [
    "---"
   ]
  },
  {
   "cell_type": "markdown",
   "metadata": {},
   "source": [
    "### Part (d)\n",
    "\n",
    "Now, we will define a **Data Pipeline** for handling entire workflow, this pipeline contains three steps:\n",
    "\n",
    "1. **Imputer**: Fills empty cells with `column mode`\n",
    "2. **Transformer**: Converts columns\n",
    "   1. **Numbers**: Converts number typed columns using `MinMaxScaler`\n",
    "   2. **Strings**: Converts string typed columns to numbers using `OneHotEncoder`\n",
    "3. **Classifier**: Classification using `dummy_baseline`"
   ]
  },
  {
   "cell_type": "code",
   "execution_count": 263,
   "metadata": {},
   "outputs": [
    {
     "data": {
      "text/html": [
       "<style>#sk-c4c09263-eb07-43d8-bb70-fc3aa5483eff {color: black;background-color: white;}#sk-c4c09263-eb07-43d8-bb70-fc3aa5483eff pre{padding: 0;}#sk-c4c09263-eb07-43d8-bb70-fc3aa5483eff div.sk-toggleable {background-color: white;}#sk-c4c09263-eb07-43d8-bb70-fc3aa5483eff label.sk-toggleable__label {cursor: pointer;display: block;width: 100%;margin-bottom: 0;padding: 0.3em;box-sizing: border-box;text-align: center;}#sk-c4c09263-eb07-43d8-bb70-fc3aa5483eff div.sk-toggleable__content {max-height: 0;max-width: 0;overflow: hidden;text-align: left;background-color: #f0f8ff;}#sk-c4c09263-eb07-43d8-bb70-fc3aa5483eff div.sk-toggleable__content pre {margin: 0.2em;color: black;border-radius: 0.25em;background-color: #f0f8ff;}#sk-c4c09263-eb07-43d8-bb70-fc3aa5483eff input.sk-toggleable__control:checked~div.sk-toggleable__content {max-height: 200px;max-width: 100%;overflow: auto;}#sk-c4c09263-eb07-43d8-bb70-fc3aa5483eff div.sk-estimator input.sk-toggleable__control:checked~label.sk-toggleable__label {background-color: #d4ebff;}#sk-c4c09263-eb07-43d8-bb70-fc3aa5483eff div.sk-label input.sk-toggleable__control:checked~label.sk-toggleable__label {background-color: #d4ebff;}#sk-c4c09263-eb07-43d8-bb70-fc3aa5483eff input.sk-hidden--visually {border: 0;clip: rect(1px 1px 1px 1px);clip: rect(1px, 1px, 1px, 1px);height: 1px;margin: -1px;overflow: hidden;padding: 0;position: absolute;width: 1px;}#sk-c4c09263-eb07-43d8-bb70-fc3aa5483eff div.sk-estimator {font-family: monospace;background-color: #f0f8ff;border: 1px dotted black;border-radius: 0.25em;box-sizing: border-box;margin-bottom: 0.5em;}#sk-c4c09263-eb07-43d8-bb70-fc3aa5483eff div.sk-estimator:hover {background-color: #d4ebff;}#sk-c4c09263-eb07-43d8-bb70-fc3aa5483eff div.sk-parallel-item::after {content: \"\";width: 100%;border-bottom: 1px solid gray;flex-grow: 1;}#sk-c4c09263-eb07-43d8-bb70-fc3aa5483eff div.sk-label:hover label.sk-toggleable__label {background-color: #d4ebff;}#sk-c4c09263-eb07-43d8-bb70-fc3aa5483eff div.sk-serial::before {content: \"\";position: absolute;border-left: 1px solid gray;box-sizing: border-box;top: 2em;bottom: 0;left: 50%;}#sk-c4c09263-eb07-43d8-bb70-fc3aa5483eff div.sk-serial {display: flex;flex-direction: column;align-items: center;background-color: white;padding-right: 0.2em;padding-left: 0.2em;}#sk-c4c09263-eb07-43d8-bb70-fc3aa5483eff div.sk-item {z-index: 1;}#sk-c4c09263-eb07-43d8-bb70-fc3aa5483eff div.sk-parallel {display: flex;align-items: stretch;justify-content: center;background-color: white;}#sk-c4c09263-eb07-43d8-bb70-fc3aa5483eff div.sk-parallel::before {content: \"\";position: absolute;border-left: 1px solid gray;box-sizing: border-box;top: 2em;bottom: 0;left: 50%;}#sk-c4c09263-eb07-43d8-bb70-fc3aa5483eff div.sk-parallel-item {display: flex;flex-direction: column;position: relative;background-color: white;}#sk-c4c09263-eb07-43d8-bb70-fc3aa5483eff div.sk-parallel-item:first-child::after {align-self: flex-end;width: 50%;}#sk-c4c09263-eb07-43d8-bb70-fc3aa5483eff div.sk-parallel-item:last-child::after {align-self: flex-start;width: 50%;}#sk-c4c09263-eb07-43d8-bb70-fc3aa5483eff div.sk-parallel-item:only-child::after {width: 0;}#sk-c4c09263-eb07-43d8-bb70-fc3aa5483eff div.sk-dashed-wrapped {border: 1px dashed gray;margin: 0 0.4em 0.5em 0.4em;box-sizing: border-box;padding-bottom: 0.4em;background-color: white;position: relative;}#sk-c4c09263-eb07-43d8-bb70-fc3aa5483eff div.sk-label label {font-family: monospace;font-weight: bold;background-color: white;display: inline-block;line-height: 1.2em;}#sk-c4c09263-eb07-43d8-bb70-fc3aa5483eff div.sk-label-container {position: relative;z-index: 2;text-align: center;}#sk-c4c09263-eb07-43d8-bb70-fc3aa5483eff div.sk-container {display: inline-block;position: relative;}</style><div id=\"sk-c4c09263-eb07-43d8-bb70-fc3aa5483eff\" class\"sk-top-container\"><div class=\"sk-container\"><div class=\"sk-item sk-dashed-wrapped\"><div class=\"sk-label-container\"><div class=\"sk-label sk-toggleable\"><input class=\"sk-toggleable__control sk-hidden--visually\" id=\"fd5bd8e6-aac1-4adc-9825-9a3d6c9b7e6e\" type=\"checkbox\" ><label class=\"sk-toggleable__label\" for=\"fd5bd8e6-aac1-4adc-9825-9a3d6c9b7e6e\">Pipeline</label><div class=\"sk-toggleable__content\"><pre>Pipeline(steps=[('imputer', SimpleImputer(strategy='most_frequent')),\n",
       "                ('transformer',\n",
       "                 ColumnTransformer(remainder='passthrough',\n",
       "                                   transformers=[('numbers', MinMaxScaler(),\n",
       "                                                  [0, 2, 3, 9, 10, 11]),\n",
       "                                                 ('strings',\n",
       "                                                  OneHotEncoder(handle_unknown='ignore'),\n",
       "                                                  [1, 4, 5, 6, 7, 8, 12])])),\n",
       "                ('classifier',\n",
       "                 DummyClassifier(constant=0, strategy='constant'))])</pre></div></div></div><div class=\"sk-serial\"><div class=\"sk-item\"><div class=\"sk-estimator sk-toggleable\"><input class=\"sk-toggleable__control sk-hidden--visually\" id=\"afef6fc6-d59d-4063-8136-5afd855a2208\" type=\"checkbox\" ><label class=\"sk-toggleable__label\" for=\"afef6fc6-d59d-4063-8136-5afd855a2208\">SimpleImputer</label><div class=\"sk-toggleable__content\"><pre>SimpleImputer(strategy='most_frequent')</pre></div></div></div><div class=\"sk-item sk-dashed-wrapped\"><div class=\"sk-label-container\"><div class=\"sk-label sk-toggleable\"><input class=\"sk-toggleable__control sk-hidden--visually\" id=\"fda633ea-dcc1-4a26-97f0-2ade6751d4e1\" type=\"checkbox\" ><label class=\"sk-toggleable__label\" for=\"fda633ea-dcc1-4a26-97f0-2ade6751d4e1\">transformer: ColumnTransformer</label><div class=\"sk-toggleable__content\"><pre>ColumnTransformer(remainder='passthrough',\n",
       "                  transformers=[('numbers', MinMaxScaler(),\n",
       "                                 [0, 2, 3, 9, 10, 11]),\n",
       "                                ('strings',\n",
       "                                 OneHotEncoder(handle_unknown='ignore'),\n",
       "                                 [1, 4, 5, 6, 7, 8, 12])])</pre></div></div></div><div class=\"sk-parallel\"><div class=\"sk-parallel-item\"><div class=\"sk-item\"><div class=\"sk-label-container\"><div class=\"sk-label sk-toggleable\"><input class=\"sk-toggleable__control sk-hidden--visually\" id=\"21e0ec80-21a2-42c7-966e-f38df36d8dcb\" type=\"checkbox\" ><label class=\"sk-toggleable__label\" for=\"21e0ec80-21a2-42c7-966e-f38df36d8dcb\">numbers</label><div class=\"sk-toggleable__content\"><pre>[0, 2, 3, 9, 10, 11]</pre></div></div></div><div class=\"sk-serial\"><div class=\"sk-item\"><div class=\"sk-estimator sk-toggleable\"><input class=\"sk-toggleable__control sk-hidden--visually\" id=\"e205ab9a-f1c9-4171-97fb-0c97749cfc15\" type=\"checkbox\" ><label class=\"sk-toggleable__label\" for=\"e205ab9a-f1c9-4171-97fb-0c97749cfc15\">MinMaxScaler</label><div class=\"sk-toggleable__content\"><pre>MinMaxScaler()</pre></div></div></div></div></div></div><div class=\"sk-parallel-item\"><div class=\"sk-item\"><div class=\"sk-label-container\"><div class=\"sk-label sk-toggleable\"><input class=\"sk-toggleable__control sk-hidden--visually\" id=\"faa65c28-d0bb-4ae8-a9da-fde945e5aedc\" type=\"checkbox\" ><label class=\"sk-toggleable__label\" for=\"faa65c28-d0bb-4ae8-a9da-fde945e5aedc\">strings</label><div class=\"sk-toggleable__content\"><pre>[1, 4, 5, 6, 7, 8, 12]</pre></div></div></div><div class=\"sk-serial\"><div class=\"sk-item\"><div class=\"sk-estimator sk-toggleable\"><input class=\"sk-toggleable__control sk-hidden--visually\" id=\"2c9e9942-95d8-4ad5-b17e-120b2d4f6884\" type=\"checkbox\" ><label class=\"sk-toggleable__label\" for=\"2c9e9942-95d8-4ad5-b17e-120b2d4f6884\">OneHotEncoder</label><div class=\"sk-toggleable__content\"><pre>OneHotEncoder(handle_unknown='ignore')</pre></div></div></div></div></div></div><div class=\"sk-parallel-item\"><div class=\"sk-item\"><div class=\"sk-label-container\"><div class=\"sk-label sk-toggleable\"><input class=\"sk-toggleable__control sk-hidden--visually\" id=\"ba5fdde0-e01f-4dcb-87a6-a485b41897ab\" type=\"checkbox\" ><label class=\"sk-toggleable__label\" for=\"ba5fdde0-e01f-4dcb-87a6-a485b41897ab\">remainder</label><div class=\"sk-toggleable__content\"><pre>[]</pre></div></div></div><div class=\"sk-serial\"><div class=\"sk-item\"><div class=\"sk-estimator sk-toggleable\"><input class=\"sk-toggleable__control sk-hidden--visually\" id=\"a0e261d3-90be-490b-9012-fbf3ace174c0\" type=\"checkbox\" ><label class=\"sk-toggleable__label\" for=\"a0e261d3-90be-490b-9012-fbf3ace174c0\">passthrough</label><div class=\"sk-toggleable__content\"><pre>passthrough</pre></div></div></div></div></div></div></div></div><div class=\"sk-item\"><div class=\"sk-estimator sk-toggleable\"><input class=\"sk-toggleable__control sk-hidden--visually\" id=\"8469fdb6-ce04-4190-b989-d276e10770f8\" type=\"checkbox\" ><label class=\"sk-toggleable__label\" for=\"8469fdb6-ce04-4190-b989-d276e10770f8\">DummyClassifier</label><div class=\"sk-toggleable__content\"><pre>DummyClassifier(constant=0, strategy='constant')</pre></div></div></div></div></div></div></div>"
      ],
      "text/plain": [
       "Pipeline(steps=[('imputer', SimpleImputer(strategy='most_frequent')),\n",
       "                ('transformer',\n",
       "                 ColumnTransformer(remainder='passthrough',\n",
       "                                   transformers=[('numbers', MinMaxScaler(),\n",
       "                                                  [0, 2, 3, 9, 10, 11]),\n",
       "                                                 ('strings',\n",
       "                                                  OneHotEncoder(handle_unknown='ignore'),\n",
       "                                                  [1, 4, 5, 6, 7, 8, 12])])),\n",
       "                ('classifier',\n",
       "                 DummyClassifier(constant=0, strategy='constant'))])"
      ]
     },
     "execution_count": 263,
     "metadata": {},
     "output_type": "execute_result"
    }
   ],
   "source": [
    "pipe = skpipeline.Pipeline(steps=[\n",
    "    (\"imputer\", skimpute.SimpleImputer(missing_values=np.nan, strategy=\"most_frequent\")),\n",
    "    (\"transformer\", skcompose.ColumnTransformer(remainder=\"passthrough\", transformers=[\n",
    "        (\"numbers\", skprocessing.MinMaxScaler(), heading_numbers_index),\n",
    "        (\"strings\", skprocessing.OneHotEncoder(handle_unknown=\"ignore\"), heading_strings_index),\n",
    "    ])),\n",
    "    (\"classifier\", skdummy.DummyClassifier(strategy=\"constant\", constant=0))\n",
    "]).fit(train_features, train_labels)\n",
    "\n",
    "pipe"
   ]
  },
  {
   "cell_type": "code",
   "execution_count": 264,
   "metadata": {},
   "outputs": [
    {
     "name": "stdout",
     "output_type": "stream",
     "text": [
      "Train Accuracy: [0.76052632 0.76008772 0.76042124 0.76042124 0.76042124 0.76042124\n",
      " 0.76042124 0.76042124 0.76042124 0.76042124]\n",
      "Test Accuracy: [0.75639713 0.75639713 0.75639713 0.75639713 0.75639713 0.75639713\n",
      " 0.75639713 0.75639713 0.75639713 0.75614754]\n"
     ]
    }
   ],
   "source": [
    "train_accuracy = skselection.cross_val_score(pipe, train_features, train_labels, cv=10)\n",
    "test_accuracy = skselection.cross_val_score(pipe, test_features, test_labels, cv=10)\n",
    "\n",
    "print(f\"Train Accuracy: {train_accuracy}\")\n",
    "print(f\"Test Accuracy: {test_accuracy}\")"
   ]
  },
  {
   "cell_type": "markdown",
   "id": "406acb3f",
   "metadata": {},
   "source": [
    "---"
   ]
  },
  {
   "cell_type": "markdown",
   "metadata": {},
   "source": [
    "## Problem (2)\n",
    "\n",
    "Now, we will define a **Data Pipeline** for handling entire workflow, this pipeline contains three steps:\n",
    "\n",
    "1. **Imputer**: Fills empty cells with `column mode`\n",
    "2. **Transformer**: Converts columns\n",
    "   1. **Numbers**: Converts number typed columns using `MinMaxScaler`\n",
    "   2. **Strings**: Converts string typed columns to numbers using `OneHotEncoder`\n",
    "3. **Classifier**: Classification using `logistic_regression`"
   ]
  },
  {
   "cell_type": "code",
   "execution_count": 265,
   "metadata": {},
   "outputs": [
    {
     "data": {
      "text/html": [
       "<style>#sk-0eb5f23b-9e6f-40d7-8284-3ebe815a7be9 {color: black;background-color: white;}#sk-0eb5f23b-9e6f-40d7-8284-3ebe815a7be9 pre{padding: 0;}#sk-0eb5f23b-9e6f-40d7-8284-3ebe815a7be9 div.sk-toggleable {background-color: white;}#sk-0eb5f23b-9e6f-40d7-8284-3ebe815a7be9 label.sk-toggleable__label {cursor: pointer;display: block;width: 100%;margin-bottom: 0;padding: 0.3em;box-sizing: border-box;text-align: center;}#sk-0eb5f23b-9e6f-40d7-8284-3ebe815a7be9 div.sk-toggleable__content {max-height: 0;max-width: 0;overflow: hidden;text-align: left;background-color: #f0f8ff;}#sk-0eb5f23b-9e6f-40d7-8284-3ebe815a7be9 div.sk-toggleable__content pre {margin: 0.2em;color: black;border-radius: 0.25em;background-color: #f0f8ff;}#sk-0eb5f23b-9e6f-40d7-8284-3ebe815a7be9 input.sk-toggleable__control:checked~div.sk-toggleable__content {max-height: 200px;max-width: 100%;overflow: auto;}#sk-0eb5f23b-9e6f-40d7-8284-3ebe815a7be9 div.sk-estimator input.sk-toggleable__control:checked~label.sk-toggleable__label {background-color: #d4ebff;}#sk-0eb5f23b-9e6f-40d7-8284-3ebe815a7be9 div.sk-label input.sk-toggleable__control:checked~label.sk-toggleable__label {background-color: #d4ebff;}#sk-0eb5f23b-9e6f-40d7-8284-3ebe815a7be9 input.sk-hidden--visually {border: 0;clip: rect(1px 1px 1px 1px);clip: rect(1px, 1px, 1px, 1px);height: 1px;margin: -1px;overflow: hidden;padding: 0;position: absolute;width: 1px;}#sk-0eb5f23b-9e6f-40d7-8284-3ebe815a7be9 div.sk-estimator {font-family: monospace;background-color: #f0f8ff;border: 1px dotted black;border-radius: 0.25em;box-sizing: border-box;margin-bottom: 0.5em;}#sk-0eb5f23b-9e6f-40d7-8284-3ebe815a7be9 div.sk-estimator:hover {background-color: #d4ebff;}#sk-0eb5f23b-9e6f-40d7-8284-3ebe815a7be9 div.sk-parallel-item::after {content: \"\";width: 100%;border-bottom: 1px solid gray;flex-grow: 1;}#sk-0eb5f23b-9e6f-40d7-8284-3ebe815a7be9 div.sk-label:hover label.sk-toggleable__label {background-color: #d4ebff;}#sk-0eb5f23b-9e6f-40d7-8284-3ebe815a7be9 div.sk-serial::before {content: \"\";position: absolute;border-left: 1px solid gray;box-sizing: border-box;top: 2em;bottom: 0;left: 50%;}#sk-0eb5f23b-9e6f-40d7-8284-3ebe815a7be9 div.sk-serial {display: flex;flex-direction: column;align-items: center;background-color: white;padding-right: 0.2em;padding-left: 0.2em;}#sk-0eb5f23b-9e6f-40d7-8284-3ebe815a7be9 div.sk-item {z-index: 1;}#sk-0eb5f23b-9e6f-40d7-8284-3ebe815a7be9 div.sk-parallel {display: flex;align-items: stretch;justify-content: center;background-color: white;}#sk-0eb5f23b-9e6f-40d7-8284-3ebe815a7be9 div.sk-parallel::before {content: \"\";position: absolute;border-left: 1px solid gray;box-sizing: border-box;top: 2em;bottom: 0;left: 50%;}#sk-0eb5f23b-9e6f-40d7-8284-3ebe815a7be9 div.sk-parallel-item {display: flex;flex-direction: column;position: relative;background-color: white;}#sk-0eb5f23b-9e6f-40d7-8284-3ebe815a7be9 div.sk-parallel-item:first-child::after {align-self: flex-end;width: 50%;}#sk-0eb5f23b-9e6f-40d7-8284-3ebe815a7be9 div.sk-parallel-item:last-child::after {align-self: flex-start;width: 50%;}#sk-0eb5f23b-9e6f-40d7-8284-3ebe815a7be9 div.sk-parallel-item:only-child::after {width: 0;}#sk-0eb5f23b-9e6f-40d7-8284-3ebe815a7be9 div.sk-dashed-wrapped {border: 1px dashed gray;margin: 0 0.4em 0.5em 0.4em;box-sizing: border-box;padding-bottom: 0.4em;background-color: white;position: relative;}#sk-0eb5f23b-9e6f-40d7-8284-3ebe815a7be9 div.sk-label label {font-family: monospace;font-weight: bold;background-color: white;display: inline-block;line-height: 1.2em;}#sk-0eb5f23b-9e6f-40d7-8284-3ebe815a7be9 div.sk-label-container {position: relative;z-index: 2;text-align: center;}#sk-0eb5f23b-9e6f-40d7-8284-3ebe815a7be9 div.sk-container {display: inline-block;position: relative;}</style><div id=\"sk-0eb5f23b-9e6f-40d7-8284-3ebe815a7be9\" class\"sk-top-container\"><div class=\"sk-container\"><div class=\"sk-item sk-dashed-wrapped\"><div class=\"sk-label-container\"><div class=\"sk-label sk-toggleable\"><input class=\"sk-toggleable__control sk-hidden--visually\" id=\"453f307d-0c83-43d6-8458-6f463237618c\" type=\"checkbox\" ><label class=\"sk-toggleable__label\" for=\"453f307d-0c83-43d6-8458-6f463237618c\">Pipeline</label><div class=\"sk-toggleable__content\"><pre>Pipeline(steps=[('imputer', SimpleImputer(strategy='most_frequent')),\n",
       "                ('transformer',\n",
       "                 ColumnTransformer(remainder='passthrough',\n",
       "                                   transformers=[('numbers', MinMaxScaler(),\n",
       "                                                  [0, 2, 3, 9, 10, 11]),\n",
       "                                                 ('strings',\n",
       "                                                  OneHotEncoder(handle_unknown='ignore'),\n",
       "                                                  [1, 4, 5, 6, 7, 8, 12])])),\n",
       "                ('classifier', LogisticRegression(max_iter=1000))])</pre></div></div></div><div class=\"sk-serial\"><div class=\"sk-item\"><div class=\"sk-estimator sk-toggleable\"><input class=\"sk-toggleable__control sk-hidden--visually\" id=\"793076f2-440e-45fc-94b3-242a40b5fcc7\" type=\"checkbox\" ><label class=\"sk-toggleable__label\" for=\"793076f2-440e-45fc-94b3-242a40b5fcc7\">SimpleImputer</label><div class=\"sk-toggleable__content\"><pre>SimpleImputer(strategy='most_frequent')</pre></div></div></div><div class=\"sk-item sk-dashed-wrapped\"><div class=\"sk-label-container\"><div class=\"sk-label sk-toggleable\"><input class=\"sk-toggleable__control sk-hidden--visually\" id=\"79368e15-e6a1-402c-bb7e-44515ee1839c\" type=\"checkbox\" ><label class=\"sk-toggleable__label\" for=\"79368e15-e6a1-402c-bb7e-44515ee1839c\">transformer: ColumnTransformer</label><div class=\"sk-toggleable__content\"><pre>ColumnTransformer(remainder='passthrough',\n",
       "                  transformers=[('numbers', MinMaxScaler(),\n",
       "                                 [0, 2, 3, 9, 10, 11]),\n",
       "                                ('strings',\n",
       "                                 OneHotEncoder(handle_unknown='ignore'),\n",
       "                                 [1, 4, 5, 6, 7, 8, 12])])</pre></div></div></div><div class=\"sk-parallel\"><div class=\"sk-parallel-item\"><div class=\"sk-item\"><div class=\"sk-label-container\"><div class=\"sk-label sk-toggleable\"><input class=\"sk-toggleable__control sk-hidden--visually\" id=\"33bea3b5-b407-4aaa-a694-af010d1e635e\" type=\"checkbox\" ><label class=\"sk-toggleable__label\" for=\"33bea3b5-b407-4aaa-a694-af010d1e635e\">numbers</label><div class=\"sk-toggleable__content\"><pre>[0, 2, 3, 9, 10, 11]</pre></div></div></div><div class=\"sk-serial\"><div class=\"sk-item\"><div class=\"sk-estimator sk-toggleable\"><input class=\"sk-toggleable__control sk-hidden--visually\" id=\"982c1d76-e8c3-49c9-8553-8a6e39b2a699\" type=\"checkbox\" ><label class=\"sk-toggleable__label\" for=\"982c1d76-e8c3-49c9-8553-8a6e39b2a699\">MinMaxScaler</label><div class=\"sk-toggleable__content\"><pre>MinMaxScaler()</pre></div></div></div></div></div></div><div class=\"sk-parallel-item\"><div class=\"sk-item\"><div class=\"sk-label-container\"><div class=\"sk-label sk-toggleable\"><input class=\"sk-toggleable__control sk-hidden--visually\" id=\"878de295-b078-4e4b-99d5-84a536cfa899\" type=\"checkbox\" ><label class=\"sk-toggleable__label\" for=\"878de295-b078-4e4b-99d5-84a536cfa899\">strings</label><div class=\"sk-toggleable__content\"><pre>[1, 4, 5, 6, 7, 8, 12]</pre></div></div></div><div class=\"sk-serial\"><div class=\"sk-item\"><div class=\"sk-estimator sk-toggleable\"><input class=\"sk-toggleable__control sk-hidden--visually\" id=\"0bdc15f1-e681-4288-8ed6-7e22d225fbc0\" type=\"checkbox\" ><label class=\"sk-toggleable__label\" for=\"0bdc15f1-e681-4288-8ed6-7e22d225fbc0\">OneHotEncoder</label><div class=\"sk-toggleable__content\"><pre>OneHotEncoder(handle_unknown='ignore')</pre></div></div></div></div></div></div><div class=\"sk-parallel-item\"><div class=\"sk-item\"><div class=\"sk-label-container\"><div class=\"sk-label sk-toggleable\"><input class=\"sk-toggleable__control sk-hidden--visually\" id=\"234bbc44-b4a2-4772-9fa6-d5f9424e0f33\" type=\"checkbox\" ><label class=\"sk-toggleable__label\" for=\"234bbc44-b4a2-4772-9fa6-d5f9424e0f33\">remainder</label><div class=\"sk-toggleable__content\"><pre>[]</pre></div></div></div><div class=\"sk-serial\"><div class=\"sk-item\"><div class=\"sk-estimator sk-toggleable\"><input class=\"sk-toggleable__control sk-hidden--visually\" id=\"a28c1c68-397b-45cd-8523-d33e55f8b589\" type=\"checkbox\" ><label class=\"sk-toggleable__label\" for=\"a28c1c68-397b-45cd-8523-d33e55f8b589\">passthrough</label><div class=\"sk-toggleable__content\"><pre>passthrough</pre></div></div></div></div></div></div></div></div><div class=\"sk-item\"><div class=\"sk-estimator sk-toggleable\"><input class=\"sk-toggleable__control sk-hidden--visually\" id=\"5fb5ea35-3563-40e4-9f22-36b7e891ad56\" type=\"checkbox\" ><label class=\"sk-toggleable__label\" for=\"5fb5ea35-3563-40e4-9f22-36b7e891ad56\">LogisticRegression</label><div class=\"sk-toggleable__content\"><pre>LogisticRegression(max_iter=1000)</pre></div></div></div></div></div></div></div>"
      ],
      "text/plain": [
       "Pipeline(steps=[('imputer', SimpleImputer(strategy='most_frequent')),\n",
       "                ('transformer',\n",
       "                 ColumnTransformer(remainder='passthrough',\n",
       "                                   transformers=[('numbers', MinMaxScaler(),\n",
       "                                                  [0, 2, 3, 9, 10, 11]),\n",
       "                                                 ('strings',\n",
       "                                                  OneHotEncoder(handle_unknown='ignore'),\n",
       "                                                  [1, 4, 5, 6, 7, 8, 12])])),\n",
       "                ('classifier', LogisticRegression(max_iter=1000))])"
      ]
     },
     "execution_count": 265,
     "metadata": {},
     "output_type": "execute_result"
    }
   ],
   "source": [
    "pipe = skpipeline.Pipeline(steps=[\n",
    "    (\"imputer\", skimpute.SimpleImputer(missing_values=np.nan, strategy=\"most_frequent\")),\n",
    "    (\"transformer\", skcompose.ColumnTransformer(remainder=\"passthrough\", transformers=[\n",
    "        (\"numbers\", skprocessing.MinMaxScaler(), heading_numbers_index),\n",
    "        (\"strings\", skprocessing.OneHotEncoder(handle_unknown=\"ignore\"), heading_strings_index),\n",
    "    ])),\n",
    "    (\"classifier\", sklinear.LogisticRegression(max_iter=1000))\n",
    "]).fit(train_features, train_labels)\n",
    "\n",
    "pipe"
   ]
  },
  {
   "cell_type": "code",
   "execution_count": 266,
   "metadata": {},
   "outputs": [
    {
     "name": "stdout",
     "output_type": "stream",
     "text": [
      "Train Accuracy: [0.85350877 0.85614035 0.85563844 0.84598508 0.84247477 0.84686266\n",
      " 0.85870996 0.85432207 0.8411584  0.84159719]\n",
      "Test Accuracy: [0.8444217  0.84032753 0.83623337 0.84339816 0.84646878 0.84749232\n",
      " 0.84032753 0.83930399 0.85158649 0.85348361]\n"
     ]
    }
   ],
   "source": [
    "train_accuracy = skselection.cross_val_score(pipe, train_features, train_labels, cv=10)\n",
    "test_accuracy = skselection.cross_val_score(pipe, test_features, test_labels, cv=10)\n",
    "\n",
    "print(f\"Train Accuracy: {train_accuracy}\")\n",
    "print(f\"Test Accuracy: {test_accuracy}\")"
   ]
  },
  {
   "cell_type": "markdown",
   "id": "406acb3f",
   "metadata": {},
   "source": [
    "---"
   ]
  },
  {
   "cell_type": "markdown",
   "metadata": {},
   "source": [
    "## Problem (3)\n",
    "\n",
    "Now, we will define a **Data Pipeline** for handling entire workflow, this pipeline contains three steps:\n",
    "\n",
    "1. **Imputer**: Fills empty cells with `column mode`\n",
    "2. **Transformer**: Converts columns\n",
    "   1. **Numbers**: Converts number typed columns using `MinMaxScaler`\n",
    "   2. **Strings**: Converts string typed columns to numbers using `OneHotEncoder`\n",
    "3. **Classifier**: Classification using `naive_bayes`"
   ]
  },
  {
   "cell_type": "code",
   "execution_count": 267,
   "metadata": {},
   "outputs": [
    {
     "data": {
      "text/html": [
       "<style>#sk-183a1b11-7eec-4685-97bc-f89c48967b16 {color: black;background-color: white;}#sk-183a1b11-7eec-4685-97bc-f89c48967b16 pre{padding: 0;}#sk-183a1b11-7eec-4685-97bc-f89c48967b16 div.sk-toggleable {background-color: white;}#sk-183a1b11-7eec-4685-97bc-f89c48967b16 label.sk-toggleable__label {cursor: pointer;display: block;width: 100%;margin-bottom: 0;padding: 0.3em;box-sizing: border-box;text-align: center;}#sk-183a1b11-7eec-4685-97bc-f89c48967b16 div.sk-toggleable__content {max-height: 0;max-width: 0;overflow: hidden;text-align: left;background-color: #f0f8ff;}#sk-183a1b11-7eec-4685-97bc-f89c48967b16 div.sk-toggleable__content pre {margin: 0.2em;color: black;border-radius: 0.25em;background-color: #f0f8ff;}#sk-183a1b11-7eec-4685-97bc-f89c48967b16 input.sk-toggleable__control:checked~div.sk-toggleable__content {max-height: 200px;max-width: 100%;overflow: auto;}#sk-183a1b11-7eec-4685-97bc-f89c48967b16 div.sk-estimator input.sk-toggleable__control:checked~label.sk-toggleable__label {background-color: #d4ebff;}#sk-183a1b11-7eec-4685-97bc-f89c48967b16 div.sk-label input.sk-toggleable__control:checked~label.sk-toggleable__label {background-color: #d4ebff;}#sk-183a1b11-7eec-4685-97bc-f89c48967b16 input.sk-hidden--visually {border: 0;clip: rect(1px 1px 1px 1px);clip: rect(1px, 1px, 1px, 1px);height: 1px;margin: -1px;overflow: hidden;padding: 0;position: absolute;width: 1px;}#sk-183a1b11-7eec-4685-97bc-f89c48967b16 div.sk-estimator {font-family: monospace;background-color: #f0f8ff;border: 1px dotted black;border-radius: 0.25em;box-sizing: border-box;margin-bottom: 0.5em;}#sk-183a1b11-7eec-4685-97bc-f89c48967b16 div.sk-estimator:hover {background-color: #d4ebff;}#sk-183a1b11-7eec-4685-97bc-f89c48967b16 div.sk-parallel-item::after {content: \"\";width: 100%;border-bottom: 1px solid gray;flex-grow: 1;}#sk-183a1b11-7eec-4685-97bc-f89c48967b16 div.sk-label:hover label.sk-toggleable__label {background-color: #d4ebff;}#sk-183a1b11-7eec-4685-97bc-f89c48967b16 div.sk-serial::before {content: \"\";position: absolute;border-left: 1px solid gray;box-sizing: border-box;top: 2em;bottom: 0;left: 50%;}#sk-183a1b11-7eec-4685-97bc-f89c48967b16 div.sk-serial {display: flex;flex-direction: column;align-items: center;background-color: white;padding-right: 0.2em;padding-left: 0.2em;}#sk-183a1b11-7eec-4685-97bc-f89c48967b16 div.sk-item {z-index: 1;}#sk-183a1b11-7eec-4685-97bc-f89c48967b16 div.sk-parallel {display: flex;align-items: stretch;justify-content: center;background-color: white;}#sk-183a1b11-7eec-4685-97bc-f89c48967b16 div.sk-parallel::before {content: \"\";position: absolute;border-left: 1px solid gray;box-sizing: border-box;top: 2em;bottom: 0;left: 50%;}#sk-183a1b11-7eec-4685-97bc-f89c48967b16 div.sk-parallel-item {display: flex;flex-direction: column;position: relative;background-color: white;}#sk-183a1b11-7eec-4685-97bc-f89c48967b16 div.sk-parallel-item:first-child::after {align-self: flex-end;width: 50%;}#sk-183a1b11-7eec-4685-97bc-f89c48967b16 div.sk-parallel-item:last-child::after {align-self: flex-start;width: 50%;}#sk-183a1b11-7eec-4685-97bc-f89c48967b16 div.sk-parallel-item:only-child::after {width: 0;}#sk-183a1b11-7eec-4685-97bc-f89c48967b16 div.sk-dashed-wrapped {border: 1px dashed gray;margin: 0 0.4em 0.5em 0.4em;box-sizing: border-box;padding-bottom: 0.4em;background-color: white;position: relative;}#sk-183a1b11-7eec-4685-97bc-f89c48967b16 div.sk-label label {font-family: monospace;font-weight: bold;background-color: white;display: inline-block;line-height: 1.2em;}#sk-183a1b11-7eec-4685-97bc-f89c48967b16 div.sk-label-container {position: relative;z-index: 2;text-align: center;}#sk-183a1b11-7eec-4685-97bc-f89c48967b16 div.sk-container {display: inline-block;position: relative;}</style><div id=\"sk-183a1b11-7eec-4685-97bc-f89c48967b16\" class\"sk-top-container\"><div class=\"sk-container\"><div class=\"sk-item sk-dashed-wrapped\"><div class=\"sk-label-container\"><div class=\"sk-label sk-toggleable\"><input class=\"sk-toggleable__control sk-hidden--visually\" id=\"ed4054de-41d9-4d03-8387-2ab3a9a45ebb\" type=\"checkbox\" ><label class=\"sk-toggleable__label\" for=\"ed4054de-41d9-4d03-8387-2ab3a9a45ebb\">Pipeline</label><div class=\"sk-toggleable__content\"><pre>Pipeline(steps=[('imputer', SimpleImputer(strategy='most_frequent')),\n",
       "                ('transformer',\n",
       "                 ColumnTransformer(remainder='passthrough',\n",
       "                                   transformers=[('numbers', MinMaxScaler(),\n",
       "                                                  [0, 2, 3, 9, 10, 11]),\n",
       "                                                 ('strings',\n",
       "                                                  OneHotEncoder(handle_unknown='ignore'),\n",
       "                                                  [1, 4, 5, 6, 7, 8, 12])])),\n",
       "                ('classifier', MultinomialNB())])</pre></div></div></div><div class=\"sk-serial\"><div class=\"sk-item\"><div class=\"sk-estimator sk-toggleable\"><input class=\"sk-toggleable__control sk-hidden--visually\" id=\"e8ebbfca-3638-414e-92df-e24b2c2958ad\" type=\"checkbox\" ><label class=\"sk-toggleable__label\" for=\"e8ebbfca-3638-414e-92df-e24b2c2958ad\">SimpleImputer</label><div class=\"sk-toggleable__content\"><pre>SimpleImputer(strategy='most_frequent')</pre></div></div></div><div class=\"sk-item sk-dashed-wrapped\"><div class=\"sk-label-container\"><div class=\"sk-label sk-toggleable\"><input class=\"sk-toggleable__control sk-hidden--visually\" id=\"33ca49f4-b4ac-4c1d-9578-915ec1f07c46\" type=\"checkbox\" ><label class=\"sk-toggleable__label\" for=\"33ca49f4-b4ac-4c1d-9578-915ec1f07c46\">transformer: ColumnTransformer</label><div class=\"sk-toggleable__content\"><pre>ColumnTransformer(remainder='passthrough',\n",
       "                  transformers=[('numbers', MinMaxScaler(),\n",
       "                                 [0, 2, 3, 9, 10, 11]),\n",
       "                                ('strings',\n",
       "                                 OneHotEncoder(handle_unknown='ignore'),\n",
       "                                 [1, 4, 5, 6, 7, 8, 12])])</pre></div></div></div><div class=\"sk-parallel\"><div class=\"sk-parallel-item\"><div class=\"sk-item\"><div class=\"sk-label-container\"><div class=\"sk-label sk-toggleable\"><input class=\"sk-toggleable__control sk-hidden--visually\" id=\"80494178-97fe-4b61-92de-89cb16be1609\" type=\"checkbox\" ><label class=\"sk-toggleable__label\" for=\"80494178-97fe-4b61-92de-89cb16be1609\">numbers</label><div class=\"sk-toggleable__content\"><pre>[0, 2, 3, 9, 10, 11]</pre></div></div></div><div class=\"sk-serial\"><div class=\"sk-item\"><div class=\"sk-estimator sk-toggleable\"><input class=\"sk-toggleable__control sk-hidden--visually\" id=\"ce58e69e-0eb9-4995-8dee-ca43990ab6d4\" type=\"checkbox\" ><label class=\"sk-toggleable__label\" for=\"ce58e69e-0eb9-4995-8dee-ca43990ab6d4\">MinMaxScaler</label><div class=\"sk-toggleable__content\"><pre>MinMaxScaler()</pre></div></div></div></div></div></div><div class=\"sk-parallel-item\"><div class=\"sk-item\"><div class=\"sk-label-container\"><div class=\"sk-label sk-toggleable\"><input class=\"sk-toggleable__control sk-hidden--visually\" id=\"1bad6744-b5e3-4482-8185-5887f7b95a5d\" type=\"checkbox\" ><label class=\"sk-toggleable__label\" for=\"1bad6744-b5e3-4482-8185-5887f7b95a5d\">strings</label><div class=\"sk-toggleable__content\"><pre>[1, 4, 5, 6, 7, 8, 12]</pre></div></div></div><div class=\"sk-serial\"><div class=\"sk-item\"><div class=\"sk-estimator sk-toggleable\"><input class=\"sk-toggleable__control sk-hidden--visually\" id=\"1180e312-85ee-40f5-ac45-d8c0710cd8b6\" type=\"checkbox\" ><label class=\"sk-toggleable__label\" for=\"1180e312-85ee-40f5-ac45-d8c0710cd8b6\">OneHotEncoder</label><div class=\"sk-toggleable__content\"><pre>OneHotEncoder(handle_unknown='ignore')</pre></div></div></div></div></div></div><div class=\"sk-parallel-item\"><div class=\"sk-item\"><div class=\"sk-label-container\"><div class=\"sk-label sk-toggleable\"><input class=\"sk-toggleable__control sk-hidden--visually\" id=\"8109e6b6-d84c-486e-8e53-e39c3a95bdd8\" type=\"checkbox\" ><label class=\"sk-toggleable__label\" for=\"8109e6b6-d84c-486e-8e53-e39c3a95bdd8\">remainder</label><div class=\"sk-toggleable__content\"><pre>[]</pre></div></div></div><div class=\"sk-serial\"><div class=\"sk-item\"><div class=\"sk-estimator sk-toggleable\"><input class=\"sk-toggleable__control sk-hidden--visually\" id=\"b7cf4317-ee6b-471f-96ab-7306e8d2325f\" type=\"checkbox\" ><label class=\"sk-toggleable__label\" for=\"b7cf4317-ee6b-471f-96ab-7306e8d2325f\">passthrough</label><div class=\"sk-toggleable__content\"><pre>passthrough</pre></div></div></div></div></div></div></div></div><div class=\"sk-item\"><div class=\"sk-estimator sk-toggleable\"><input class=\"sk-toggleable__control sk-hidden--visually\" id=\"faf42cc4-5981-4dd6-91c8-0a8ec54ccca7\" type=\"checkbox\" ><label class=\"sk-toggleable__label\" for=\"faf42cc4-5981-4dd6-91c8-0a8ec54ccca7\">MultinomialNB</label><div class=\"sk-toggleable__content\"><pre>MultinomialNB()</pre></div></div></div></div></div></div></div>"
      ],
      "text/plain": [
       "Pipeline(steps=[('imputer', SimpleImputer(strategy='most_frequent')),\n",
       "                ('transformer',\n",
       "                 ColumnTransformer(remainder='passthrough',\n",
       "                                   transformers=[('numbers', MinMaxScaler(),\n",
       "                                                  [0, 2, 3, 9, 10, 11]),\n",
       "                                                 ('strings',\n",
       "                                                  OneHotEncoder(handle_unknown='ignore'),\n",
       "                                                  [1, 4, 5, 6, 7, 8, 12])])),\n",
       "                ('classifier', MultinomialNB())])"
      ]
     },
     "execution_count": 267,
     "metadata": {},
     "output_type": "execute_result"
    }
   ],
   "source": [
    "pipe = skpipeline.Pipeline(steps=[\n",
    "    (\"imputer\", skimpute.SimpleImputer(missing_values=np.nan, strategy=\"most_frequent\")),\n",
    "    (\"transformer\", skcompose.ColumnTransformer(remainder=\"passthrough\", transformers=[\n",
    "        (\"numbers\", skprocessing.MinMaxScaler(), heading_numbers_index),\n",
    "        (\"strings\", skprocessing.OneHotEncoder(handle_unknown=\"ignore\"), heading_strings_index),\n",
    "    ])),\n",
    "    (\"classifier\", skbayes.MultinomialNB())\n",
    "]).fit(train_features, train_labels)\n",
    "\n",
    "pipe"
   ]
  },
  {
   "cell_type": "code",
   "execution_count": 268,
   "metadata": {},
   "outputs": [
    {
     "name": "stdout",
     "output_type": "stream",
     "text": [
      "Train Accuracy: [0.77938596 0.75131579 0.75822729 0.74506362 0.74813515 0.74286968\n",
      " 0.76129882 0.75866608 0.77007459 0.74769636]\n",
      "Test Accuracy: [0.76663255 0.75537359 0.76560901 0.76356192 0.73797339 0.76151484\n",
      " 0.75127943 0.77379734 0.75230297 0.76741803]\n"
     ]
    }
   ],
   "source": [
    "train_accuracy = skselection.cross_val_score(pipe, train_features, train_labels, cv=10)\n",
    "test_accuracy = skselection.cross_val_score(pipe, test_features, test_labels, cv=10)\n",
    "\n",
    "print(f\"Train Accuracy: {train_accuracy}\")\n",
    "print(f\"Test Accuracy: {test_accuracy}\")"
   ]
  },
  {
   "cell_type": "markdown",
   "id": "406acb3f",
   "metadata": {},
   "source": [
    "---"
   ]
  },
  {
   "cell_type": "markdown",
   "metadata": {},
   "source": [
    "## Problem (4)\n",
    "\n",
    "First we `Standardize` data records:"
   ]
  },
  {
   "cell_type": "markdown",
   "id": "406acb3f",
   "metadata": {},
   "source": [
    "### Results\n",
    "\n",
    "As we can see, the accuracy of **Vanilla Perceptron** and **LD1 Perceptron** is `100%`, because the records are **Linearly Separable**, but the accuracy of **PCA Perceptron** is about `50%`, because it considers the direction in which the variance of the data is greater, not the direction in which classes are separable.\n",
    "\n",
    "---"
   ]
  }
 ],
 "metadata": {
  "interpreter": {
   "hash": "a9173cfc6c23b40f13a388877cb5047b1f7084b987bbc0dbbf80d7431e1b559f"
  },
  "kernelspec": {
   "display_name": "Python 3.8.0 64-bit ('.venv': poetry)",
   "language": "python",
   "name": "python3"
  },
  "language_info": {
   "codemirror_mode": {
    "name": "ipython",
    "version": 3
   },
   "file_extension": ".py",
   "mimetype": "text/x-python",
   "name": "python",
   "nbconvert_exporter": "python",
   "pygments_lexer": "ipython3",
   "version": "3.8.0"
  },
  "orig_nbformat": 4
 },
 "nbformat": 4,
 "nbformat_minor": 2
}

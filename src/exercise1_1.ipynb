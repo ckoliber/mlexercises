{
 "cells": [
  {
   "cell_type": "markdown",
   "id": "08e0ffec",
   "metadata": {},
   "source": [
    "# ML Answers\n",
    "\n",
    "- **Answer Set**: No. 01\n",
    "- **Full Name**: Mohammad Hosein Nemati\n",
    "- **Student Code**: `610300185`"
   ]
  },
  {
   "cell_type": "markdown",
   "id": "6595aa20",
   "metadata": {},
   "source": [
    "---"
   ]
  },
  {
   "cell_type": "markdown",
   "id": "f4ed694d",
   "metadata": {},
   "source": [
    "## Basics\n",
    "\n",
    "In this section we will done some basic steps:"
   ]
  },
  {
   "cell_type": "markdown",
   "id": "679cf505",
   "metadata": {},
   "source": [
    "### Libraries\n",
    "\n",
    "Before begin, we must import these required libraries:"
   ]
  },
  {
   "cell_type": "code",
   "execution_count": 32,
   "id": "8d1e4ab7",
   "metadata": {},
   "outputs": [],
   "source": [
    "import numpy as np\n",
    "import sklearn as sk\n",
    "import sklearn.svm\n",
    "import sklearn.tree\n",
    "import sklearn.ensemble\n",
    "import sklearn.tree\n",
    "import sklearn.metrics\n",
    "import xgboost as xgb\n",
    "import matplotlib.pyplot as plt"
   ]
  },
  {
   "cell_type": "markdown",
   "id": "8d32c3cd",
   "metadata": {},
   "source": [
    "### Dataset\n",
    "\n",
    "Now we can load our dataset:"
   ]
  },
  {
   "cell_type": "code",
   "execution_count": 33,
   "id": "75759233",
   "metadata": {},
   "outputs": [
    {
     "name": "stdout",
     "output_type": "stream",
     "text": [
      "Train Features: (4000, 534)\n",
      "Test Features: (479, 534)\n"
     ]
    }
   ],
   "source": [
    "labels = np.loadtxt(\"../lib/labels.txt\", dtype=str, delimiter='\\n', skiprows=0)\n",
    "data_set = np.loadtxt(\"../lib/data.txt\", delimiter=',', skiprows=0)\n",
    "\n",
    "np.random.shuffle(data_set)\n",
    "\n",
    "train_set = data_set[0:4000, :]\n",
    "test_set = data_set[4000:-1, :]\n",
    "\n",
    "train_features = train_set[:, :-1]\n",
    "train_labels = (train_set[:, -1] - 1).astype(int)\n",
    "\n",
    "test_features = test_set[:, :-1]\n",
    "test_labels = (test_set[:, -1] - 1).astype(int)\n",
    "\n",
    "print(f\"Train Features: {train_features.shape}\")\n",
    "print(f\"Test Features: {test_features.shape}\")"
   ]
  },
  {
   "cell_type": "markdown",
   "metadata": {},
   "source": [
    "---"
   ]
  },
  {
   "cell_type": "markdown",
   "id": "19899678",
   "metadata": {},
   "source": [
    "## Problem"
   ]
  },
  {
   "cell_type": "markdown",
   "metadata": {},
   "source": [
    "### Decision Tree"
   ]
  },
  {
   "cell_type": "code",
   "execution_count": 34,
   "metadata": {},
   "outputs": [],
   "source": [
    "decision_tree_model = sk.model_selection.GridSearchCV(\n",
    "    estimator=sk.tree.DecisionTreeClassifier(), \n",
    "    param_grid={\n",
    "        \"criterion\": [\"gini\", \"entropy\"],\n",
    "        \"max_depth\": [10, 50, 100, None]\n",
    "    },\n",
    "    scoring=\"accuracy\",\n",
    "    n_jobs=-1,\n",
    "    cv=5\n",
    ").fit(train_features, train_labels)\n",
    "\n",
    "decision_tree_predicts = decision_tree_model.predict(test_features)"
   ]
  },
  {
   "cell_type": "markdown",
   "metadata": {},
   "source": [
    "### Random Forest"
   ]
  },
  {
   "cell_type": "code",
   "execution_count": 35,
   "metadata": {},
   "outputs": [],
   "source": [
    "random_forest_model = sk.model_selection.GridSearchCV(\n",
    "    estimator=sk.ensemble.RandomForestClassifier(), \n",
    "    param_grid={\n",
    "        \"criterion\": [\"gini\", \"entropy\"],\n",
    "        \"max_depth\": [10, 50, 100, None]\n",
    "    },\n",
    "    scoring=\"accuracy\",\n",
    "    n_jobs=-1,\n",
    "    cv=5\n",
    ").fit(train_features, train_labels)\n",
    "\n",
    "random_forest_predicts = random_forest_model.predict(test_features)"
   ]
  },
  {
   "cell_type": "markdown",
   "metadata": {},
   "source": [
    "### XGBoost"
   ]
  },
  {
   "cell_type": "code",
   "execution_count": 36,
   "metadata": {},
   "outputs": [],
   "source": [
    "xgboost_model = sk.model_selection.GridSearchCV(\n",
    "    estimator=xgb.XGBClassifier(use_label_encoder=False), \n",
    "    param_grid={},\n",
    "    scoring=\"accuracy\",\n",
    "    n_jobs=-1,\n",
    "    cv=5\n",
    ").fit(train_features, train_labels)\n",
    "\n",
    "xgboost_predicts = xgboost_model.predict(test_features)"
   ]
  },
  {
   "cell_type": "markdown",
   "metadata": {},
   "source": [
    "### SVM"
   ]
  },
  {
   "cell_type": "code",
   "execution_count": 37,
   "metadata": {},
   "outputs": [],
   "source": [
    "svm_model = sk.model_selection.GridSearchCV(\n",
    "    estimator=sk.svm.SVC(), \n",
    "    param_grid={},\n",
    "    scoring=\"accuracy\",\n",
    "    n_jobs=-1,\n",
    "    cv=5\n",
    ").fit(train_features, train_labels)\n",
    "\n",
    "svm_predicts = svm_model.predict(test_features)"
   ]
  },
  {
   "cell_type": "markdown",
   "id": "406acb3f",
   "metadata": {},
   "source": [
    "### Results"
   ]
  },
  {
   "cell_type": "code",
   "execution_count": null,
   "metadata": {},
   "outputs": [
    {
     "name": "stderr",
     "output_type": "stream",
     "text": [
      "c:\\Users\\KoLiBer\\Documents\\Workspace\\mlexercises\\.venv\\lib\\site-packages\\sklearn\\utils\\deprecation.py:87: FutureWarning: Function plot_confusion_matrix is deprecated; Function `plot_confusion_matrix` is deprecated in 1.0 and will be removed in 1.2. Use one of the class methods: ConfusionMatrixDisplay.from_predictions or ConfusionMatrixDisplay.from_estimator.\n",
      "  warnings.warn(msg, category=FutureWarning)\n"
     ]
    },
    {
     "data": {
      "image/png": "[encoded data removed]",
      "text/plain": [
       "<Figure size 432x288 with 2 Axes>"
      ]
     },
     "metadata": {
      "needs_background": "light"
     },
     "output_type": "display_data"
    },
    {
     "name": "stderr",
     "output_type": "stream",
     "text": [
      "c:\\Users\\KoLiBer\\Documents\\Workspace\\mlexercises\\.venv\\lib\\site-packages\\sklearn\\utils\\deprecation.py:87: FutureWarning: Function plot_confusion_matrix is deprecated; Function `plot_confusion_matrix` is deprecated in 1.0 and will be removed in 1.2. Use one of the class methods: ConfusionMatrixDisplay.from_predictions or ConfusionMatrixDisplay.from_estimator.\n",
      "  warnings.warn(msg, category=FutureWarning)\n"
     ]
    },
    {
     "data": {
      "image/png": "[encoded data removed]",
      "text/plain": [
       "<Figure size 432x288 with 2 Axes>"
      ]
     },
     "metadata": {
      "needs_background": "light"
     },
     "output_type": "display_data"
    },
    {
     "name": "stderr",
     "output_type": "stream",
     "text": [
      "c:\\Users\\KoLiBer\\Documents\\Workspace\\mlexercises\\.venv\\lib\\site-packages\\sklearn\\utils\\deprecation.py:87: FutureWarning: Function plot_confusion_matrix is deprecated; Function `plot_confusion_matrix` is deprecated in 1.0 and will be removed in 1.2. Use one of the class methods: ConfusionMatrixDisplay.from_predictions or ConfusionMatrixDisplay.from_estimator.\n",
      "  warnings.warn(msg, category=FutureWarning)\n"
     ]
    },
    {
     "data": {
      "image/png": "[encoded data removed]",
      "text/plain": [
       "<Figure size 432x288 with 2 Axes>"
      ]
     },
     "metadata": {
      "needs_background": "light"
     },
     "output_type": "display_data"
    },
    {
     "name": "stderr",
     "output_type": "stream",
     "text": [
      "c:\\Users\\KoLiBer\\Documents\\Workspace\\mlexercises\\.venv\\lib\\site-packages\\sklearn\\utils\\deprecation.py:87: FutureWarning: Function plot_confusion_matrix is deprecated; Function `plot_confusion_matrix` is deprecated in 1.0 and will be removed in 1.2. Use one of the class methods: ConfusionMatrixDisplay.from_predictions or ConfusionMatrixDisplay.from_estimator.\n",
      "  warnings.warn(msg, category=FutureWarning)\n"
     ]
    },
    {
     "data": {
      "image/png": "[encoded data removed]",
      "text/plain": [
       "<Figure size 432x288 with 2 Axes>"
      ]
     },
     "metadata": {
      "needs_background": "light"
     },
     "output_type": "display_data"
    }
   ],
   "source": [
    "sk.metrics.plot_confusion_matrix(decision_tree_model, test_features, test_labels)\n",
    "plt.show()\n",
    "\n",
    "sk.metrics.plot_confusion_matrix(random_forest_model, test_features, test_labels)\n",
    "plt.show()\n",
    "\n",
    "sk.metrics.plot_confusion_matrix(xgboost_model, test_features, test_labels)\n",
    "plt.show()\n",
    "\n",
    "sk.metrics.plot_confusion_matrix(svm_model, test_features, test_labels)\n",
    "plt.show()\n",
    "\n",
    "# print(sk.metrics.classification_report(test_labels, test_predicts, digits=3))"
   ]
  },
  {
   "cell_type": "markdown",
   "metadata": {},
   "source": [
    "---"
   ]
  }
 ],
 "metadata": {
  "interpreter": {
   "hash": "a9173cfc6c23b40f13a388877cb5047b1f7084b987bbc0dbbf80d7431e1b559f"
  },
  "kernelspec": {
   "display_name": "Python 3.10.0 64-bit ('.venv': poetry)",
   "language": "python",
   "name": "python3"
  },
  "language_info": {
   "codemirror_mode": {
    "name": "ipython",
    "version": 3
   },
   "file_extension": ".py",
   "mimetype": "text/x-python",
   "name": "python",
   "nbconvert_exporter": "python",
   "pygments_lexer": "ipython3",
   "version": "3.8.0"
  },
  "orig_nbformat": 4
 },
 "nbformat": 4,
 "nbformat_minor": 2
}
